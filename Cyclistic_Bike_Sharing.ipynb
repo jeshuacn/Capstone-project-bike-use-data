{
  "cells": [
    {
      "cell_type": "markdown",
      "metadata": {
        "id": "BsdD1SLuqGOp"
      },
      "source": [
        "<nav>\n",
        "<a href=\"https://www.linkedin.com/in/jeshua-cespedes/\">LinkedIn</a> |\n",
        "<a href=\"https://github.com/jeshuacn\">Github</a> |\n",
        "</nav>"
      ]
    },
    {
      "cell_type": "markdown",
      "metadata": {
        "id": "HmQGeTDdJISk"
      },
      "source": [
        "# Case Study: Cyclistic Bike Sharing"
      ]
    },
    {
      "cell_type": "markdown",
      "metadata": {
        "id": "kNxuLvudHKXf"
      },
      "source": [
        "# **Summary**\n"
      ]
    },
    {
      "cell_type": "markdown",
      "metadata": {
        "id": "7CKtVZWVWvb4"
      },
      "source": [
        "## Scenario\n",
        "\n",
        "The director of marketing believes the company’s future success depends on maximizing the number of annual memberships. Therefore, your team wants to understand how casual riders and annual members use bikes differently. From these insights, your team will design a new marketing strategy to convert casual riders into annual members."
      ]
    },
    {
      "cell_type": "markdown",
      "metadata": {
        "id": "Iz-dZhCcI5qa"
      },
      "source": [
        "## About Divvy\n",
        "Divvy is Chicagoland’s bike share system across Chicago and Evanston. Divvy provides residents and visitors with a convenient, fun and affordable transportation option for getting around and exploring Chicago."
      ]
    },
    {
      "cell_type": "markdown",
      "metadata": {
        "id": "sgidGCSfFQvf"
      },
      "source": [
        "## Business Task:\n",
        "\n",
        "Analyze and identify Divvy's bikes use between annual members and casual riders for marketing strategy. (How casual riders differ from annual members?)\n",
        "\n",
        "\n",
        "**Note:** any rider type different from member is considered casual"
      ]
    },
    {
      "cell_type": "markdown",
      "metadata": {
        "id": "Kuu73JouGQTA"
      },
      "source": [
        "## The Data\n",
        "\n",
        "The data is located on an AWS server where it is easily downloadable. It is organized by year and Fiscal Quarters.\n",
        "\n",
        "In the following link you'll find Divvy's Historical trip data available for public use: [Public data](https://ride.divvybikes.com/system-data)\n",
        "\n",
        "<ins>Each trip is anonymized and includes:</ins>\n",
        "\n",
        "-Trip start day and time\n",
        "\n",
        "-Trip end day and time\n",
        "\n",
        "-Trip start station\n",
        "\n",
        "-Trip end station\n",
        "\n",
        "-Rider type (Member, Single Ride, and Day Pass)\n",
        "\n",
        "The data has been processed to remove trips taken by staff as they service and inspect the system; and any trips below 60 seconds in length (potentially false starts or users trying to re-dock a bike to ensure it was secure).\n",
        "\n",
        "**Note:** This data is provided according to the [Divvy Data License Agreement](https://ride.divvybikes.com/data-license-agreement) and released monthly."
      ]
    },
    {
      "cell_type": "markdown",
      "metadata": {
        "id": "i5iHbb9Db6bW"
      },
      "source": [
        "# Data Preparation"
      ]
    },
    {
      "cell_type": "code",
      "execution_count": 1,
      "metadata": {
        "id": "cL4cQ_ilE5An"
      },
      "outputs": [],
      "source": [
        "# Importing useful libraries \n",
        "\n",
        "import requests\n",
        "from bs4 import BeautifulSoup\n",
        "import zipfile\n",
        "import wget\n",
        "import pandas as pd\n",
        "import numpy as np\n",
        "import os.path\n",
        "import datetime\n",
        "import matplotlib.pyplot as plt\n",
        "import seaborn as sns\n",
        "import warnings\n",
        "warnings.filterwarnings('ignore')\n",
        "#warnings.simplefilter(action='ignore', category=FutureWarning)"
      ]
    },
    {
      "cell_type": "markdown",
      "metadata": {
        "id": "46lKmJGUHxdG"
      },
      "source": [
        "## Loading the data\n",
        "\n",
        "For this analysis we are only going to take into consideration one year of data. To make it more fun and less tedious, I will use a parsing library to webscrap the webpage and download the data from the server where it is located and then load it to memory.\n"
      ]
    },
    {
      "cell_type": "code",
      "execution_count": null,
      "metadata": {
        "colab": {
          "base_uri": "https://localhost:8080/"
        },
        "id": "AC3l5QdalsSq",
        "outputId": "71fd5f5a-1f4a-4bb1-d6c8-7078960b36c4"
      },
      "outputs": [
        {
          "name": "stdout",
          "output_type": "stream",
          "text": [
            "202109-divvy-tripdata.zip\n",
            "\n",
            "202110-divvy-tripdata.zip\n",
            "\n",
            "202111-divvy-tripdata.zip\n",
            "\n",
            "202112-divvy-tripdata.zip\n",
            "\n",
            "202201-divvy-tripdata.zip\n",
            "\n",
            "202202-divvy-tripdata.zip\n",
            "\n",
            "202203-divvy-tripdata.zip\n",
            "\n",
            "202204-divvy-tripdata.zip\n",
            "\n",
            "202205-divvy-tripdata.zip\n",
            "\n",
            "202206-divvy-tripdata.zip\n",
            "\n",
            "202207-divvy-tripdata.zip\n",
            "\n",
            "202208-divvy-tripdata.zip\n"
          ]
        }
      ],
      "source": [
        "res = requests.get('https://divvy-tripdata.s3.amazonaws.com/')\n",
        "\n",
        "soup = BeautifulSoup(res.text)\n",
        "files = []\n",
        "# iterating between all the content in the web-page\n",
        "for a in soup.find_all('contents'):\n",
        "  \n",
        "# getting the name of the files in the key tag\n",
        "    for j in a.find_all('key'):\n",
        "  \n",
        "      # Spliting the string and casting it to int to get only the year of the file in the name\n",
        "      if int(j.text.split('-')[0].isnumeric()):\n",
        "  \n",
        "        # getting only the files after 2020-August\n",
        "        if  int(j.text.split('-')[0]) >=202109:\n",
        "          print(j.text)\n",
        "  \n",
        "          # adding the file name to the list variable\n",
        "          files.append(j.text)\n",
        "\n",
        "# I did it this way because I couldn't retrieve the <a> tag to get the href of the file in the index.html page where the data is stored."
      ]
    },
    {
      "cell_type": "markdown",
      "metadata": {
        "id": "RZegFu95vZzS"
      },
      "source": [
        "As you can see, the data is inside a ZIP file, so we'll need to unzip the files :"
      ]
    },
    {
      "cell_type": "code",
      "execution_count": null,
      "metadata": {
        "id": "qEui0B3FhGsW"
      },
      "outputs": [],
      "source": [
        "# Creating data frame object\n",
        "df = pd.DataFrame()"
      ]
    },
    {
      "cell_type": "code",
      "execution_count": null,
      "metadata": {
        "id": "RCXpz4O9niM2",
        "outputId": "84adfd00-c29d-4e7e-afc1-842b88aed27b"
      },
      "outputs": [
        {
          "data": {
            "text/plain": [
              "'202109-divvy-tripdata'"
            ]
          },
          "execution_count": 6,
          "metadata": {},
          "output_type": "execute_result"
        }
      ],
      "source": [
        "files[0].split('.')[0]"
      ]
    },
    {
      "cell_type": "code",
      "execution_count": null,
      "metadata": {
        "colab": {
          "base_uri": "https://localhost:8080/",
          "height": 224
        },
        "id": "od9cN-Ihti83",
        "outputId": "06c6f494-ee6b-4859-a6c9-c259878443de"
      },
      "outputs": [
        {
          "name": "stderr",
          "output_type": "stream",
          "text": [
            "100%|██████████| 12/12 [00:24<00:00,  2.05s/it]\n"
          ]
        },
        {
          "data": {
            "text/html": [
              "<div>\n",
              "<style scoped>\n",
              "    .dataframe tbody tr th:only-of-type {\n",
              "        vertical-align: middle;\n",
              "    }\n",
              "\n",
              "    .dataframe tbody tr th {\n",
              "        vertical-align: top;\n",
              "    }\n",
              "\n",
              "    .dataframe thead th {\n",
              "        text-align: right;\n",
              "    }\n",
              "</style>\n",
              "<table border=\"1\" class=\"dataframe\">\n",
              "  <thead>\n",
              "    <tr style=\"text-align: right;\">\n",
              "      <th></th>\n",
              "      <th>ride_id</th>\n",
              "      <th>rideable_type</th>\n",
              "      <th>started_at</th>\n",
              "      <th>ended_at</th>\n",
              "      <th>start_station_name</th>\n",
              "      <th>start_station_id</th>\n",
              "      <th>end_station_name</th>\n",
              "      <th>end_station_id</th>\n",
              "      <th>start_lat</th>\n",
              "      <th>start_lng</th>\n",
              "      <th>end_lat</th>\n",
              "      <th>end_lng</th>\n",
              "      <th>member_casual</th>\n",
              "    </tr>\n",
              "  </thead>\n",
              "  <tbody>\n",
              "    <tr>\n",
              "      <th>0</th>\n",
              "      <td>9DC7B962304CBFD8</td>\n",
              "      <td>electric_bike</td>\n",
              "      <td>2021-09-28 16:07:10</td>\n",
              "      <td>2021-09-28 16:09:54</td>\n",
              "      <td>NaN</td>\n",
              "      <td>NaN</td>\n",
              "      <td>NaN</td>\n",
              "      <td>NaN</td>\n",
              "      <td>41.89</td>\n",
              "      <td>-87.68</td>\n",
              "      <td>41.89</td>\n",
              "      <td>-87.67</td>\n",
              "      <td>casual</td>\n",
              "    </tr>\n",
              "    <tr>\n",
              "      <th>1</th>\n",
              "      <td>F930E2C6872D6B32</td>\n",
              "      <td>electric_bike</td>\n",
              "      <td>2021-09-28 14:24:51</td>\n",
              "      <td>2021-09-28 14:40:05</td>\n",
              "      <td>NaN</td>\n",
              "      <td>NaN</td>\n",
              "      <td>NaN</td>\n",
              "      <td>NaN</td>\n",
              "      <td>41.94</td>\n",
              "      <td>-87.64</td>\n",
              "      <td>41.98</td>\n",
              "      <td>-87.67</td>\n",
              "      <td>casual</td>\n",
              "    </tr>\n",
              "    <tr>\n",
              "      <th>2</th>\n",
              "      <td>6EF72137900BB910</td>\n",
              "      <td>electric_bike</td>\n",
              "      <td>2021-09-28 00:20:16</td>\n",
              "      <td>2021-09-28 00:23:57</td>\n",
              "      <td>NaN</td>\n",
              "      <td>NaN</td>\n",
              "      <td>NaN</td>\n",
              "      <td>NaN</td>\n",
              "      <td>41.81</td>\n",
              "      <td>-87.72</td>\n",
              "      <td>41.80</td>\n",
              "      <td>-87.72</td>\n",
              "      <td>casual</td>\n",
              "    </tr>\n",
              "    <tr>\n",
              "      <th>3</th>\n",
              "      <td>78D1DE133B3DBF55</td>\n",
              "      <td>electric_bike</td>\n",
              "      <td>2021-09-28 14:51:17</td>\n",
              "      <td>2021-09-28 15:00:06</td>\n",
              "      <td>NaN</td>\n",
              "      <td>NaN</td>\n",
              "      <td>NaN</td>\n",
              "      <td>NaN</td>\n",
              "      <td>41.80</td>\n",
              "      <td>-87.72</td>\n",
              "      <td>41.81</td>\n",
              "      <td>-87.72</td>\n",
              "      <td>casual</td>\n",
              "    </tr>\n",
              "    <tr>\n",
              "      <th>4</th>\n",
              "      <td>E03D4ACDCAEF6E00</td>\n",
              "      <td>electric_bike</td>\n",
              "      <td>2021-09-28 09:53:12</td>\n",
              "      <td>2021-09-28 10:03:44</td>\n",
              "      <td>NaN</td>\n",
              "      <td>NaN</td>\n",
              "      <td>NaN</td>\n",
              "      <td>NaN</td>\n",
              "      <td>41.88</td>\n",
              "      <td>-87.74</td>\n",
              "      <td>41.88</td>\n",
              "      <td>-87.71</td>\n",
              "      <td>casual</td>\n",
              "    </tr>\n",
              "  </tbody>\n",
              "</table>\n",
              "</div>"
            ],
            "text/plain": [
              "            ride_id  rideable_type           started_at             ended_at  \\\n",
              "0  9DC7B962304CBFD8  electric_bike  2021-09-28 16:07:10  2021-09-28 16:09:54   \n",
              "1  F930E2C6872D6B32  electric_bike  2021-09-28 14:24:51  2021-09-28 14:40:05   \n",
              "2  6EF72137900BB910  electric_bike  2021-09-28 00:20:16  2021-09-28 00:23:57   \n",
              "3  78D1DE133B3DBF55  electric_bike  2021-09-28 14:51:17  2021-09-28 15:00:06   \n",
              "4  E03D4ACDCAEF6E00  electric_bike  2021-09-28 09:53:12  2021-09-28 10:03:44   \n",
              "\n",
              "  start_station_name start_station_id end_station_name end_station_id  \\\n",
              "0                NaN              NaN              NaN            NaN   \n",
              "1                NaN              NaN              NaN            NaN   \n",
              "2                NaN              NaN              NaN            NaN   \n",
              "3                NaN              NaN              NaN            NaN   \n",
              "4                NaN              NaN              NaN            NaN   \n",
              "\n",
              "   start_lat  start_lng  end_lat  end_lng member_casual  \n",
              "0      41.89     -87.68    41.89   -87.67        casual  \n",
              "1      41.94     -87.64    41.98   -87.67        casual  \n",
              "2      41.81     -87.72    41.80   -87.72        casual  \n",
              "3      41.80     -87.72    41.81   -87.72        casual  \n",
              "4      41.88     -87.74    41.88   -87.71        casual  "
            ]
          },
          "execution_count": 7,
          "metadata": {},
          "output_type": "execute_result"
        }
      ],
      "source": [
        "# we use the wget library to get the file from the URL and the zipfile library to unzip it.\n",
        "from tqdm import tqdm\n",
        "\n",
        "dfs = []\n",
        "for i in tqdm(range(len(files))):\n",
        "  file_folder = files[i].split('.')[0]\n",
        "  # validating if we already downloaded the files\n",
        "  if os.path.exists(files[i]) == False:\n",
        "    response = wget.download('https://divvy-tripdata.s3.amazonaws.com/'+files[i],f'{files[i]}')\n",
        "  \n",
        "  # Validating if we already extrated the file\n",
        "  if os.path.exists(f'data/{file_folder}') ==False:\n",
        "    with zipfile.ZipFile(files[i], 'r') as zip_ref:\n",
        "      \n",
        "      zip_ref.extractall(f'data/{file_folder}')\n",
        "\n",
        "  # Open the CSV file and append it to the data frame object to create the \n",
        "  # new data frame with all files\n",
        "  with open('data/{}/{}.csv'.format( file_folder, file_folder)) as f:\n",
        "    data = pd.read_csv(f)\n",
        "    dfs.append(data)\n",
        "  df = pd.concat(dfs,ignore_index=True)\n",
        "\n",
        "df.head()"
      ]
    },
    {
      "cell_type": "markdown",
      "metadata": {
        "id": "doP-NXECaWAZ"
      },
      "source": [
        "This process took us 24 seconds. Doing it this way, we saved a lot of time compared to if we had to download and unzip each file individually and then upload it to create the dataframe."
      ]
    },
    {
      "cell_type": "markdown",
      "metadata": {
        "id": "duZcV9kiqVT4"
      },
      "source": [
        "## Data Transformation"
      ]
    },
    {
      "cell_type": "markdown",
      "metadata": {
        "id": "vtJyOjsTg6S0"
      },
      "source": [
        "Let's take a look to each column's data type:"
      ]
    },
    {
      "cell_type": "code",
      "execution_count": null,
      "metadata": {
        "colab": {
          "base_uri": "https://localhost:8080/"
        },
        "id": "gkfdh53NbJ6b",
        "outputId": "1fc7ca7f-1447-4b96-a0d8-3a4a3c923dcd"
      },
      "outputs": [
        {
          "name": "stdout",
          "output_type": "stream",
          "text": [
            "<class 'pandas.core.frame.DataFrame'>\n",
            "\n",
            "RangeIndex: 5883043 entries, 0 to 5883042\n",
            "\n",
            "Data columns (total 13 columns):\n",
            "\n",
            " #   Column              Dtype  \n",
            "\n",
            "---  ------              -----  \n",
            "\n",
            " 0   ride_id             object \n",
            "\n",
            " 1   rideable_type       object \n",
            "\n",
            " 2   started_at          object \n",
            "\n",
            " 3   ended_at            object \n",
            "\n",
            " 4   start_station_name  object \n",
            "\n",
            " 5   start_station_id    object \n",
            "\n",
            " 6   end_station_name    object \n",
            "\n",
            " 7   end_station_id      object \n",
            "\n",
            " 8   start_lat           float64\n",
            "\n",
            " 9   start_lng           float64\n",
            "\n",
            " 10  end_lat             float64\n",
            "\n",
            " 11  end_lng             float64\n",
            "\n",
            " 12  member_casual       object \n",
            "\n",
            "dtypes: float64(4), object(9)\n",
            "\n",
            "memory usage: 583.5+ MB\n"
          ]
        }
      ],
      "source": [
        "df.info()"
      ]
    },
    {
      "cell_type": "code",
      "execution_count": null,
      "metadata": {
        "id": "ioL5HzEUS1nV"
      },
      "outputs": [],
      "source": [
        "# Casting the member_casual column to a category will store the data\n",
        "# more efficiently, reducing the size of memory.\n",
        "df['member_casual'] =  df['member_casual'].astype('category')"
      ]
    },
    {
      "cell_type": "markdown",
      "metadata": {
        "id": "vfjdSNFPnPBR"
      },
      "source": [
        "From the information above, we can see that `'started_at'` and \n",
        "`'ended_at'` are data type object instead of datetime, so we need to convert them to be able to do operations. "
      ]
    },
    {
      "cell_type": "code",
      "execution_count": null,
      "metadata": {
        "colab": {
          "base_uri": "https://localhost:8080/"
        },
        "id": "_k658SL1zpRE",
        "outputId": "a8c94711-b18e-4c4c-cf8e-20f91db47ee5"
      },
      "outputs": [
        {
          "data": {
            "text/plain": [
              "started_at    datetime64[ns]\n",
              "ended_at      datetime64[ns]\n",
              "dtype: object"
            ]
          },
          "execution_count": 10,
          "metadata": {},
          "output_type": "execute_result"
        }
      ],
      "source": [
        "# we use apply() and pd.to_datetime() function to convert multiple columns to DateTime.\n",
        "df[['started_at','ended_at']]= df[['started_at','ended_at']].apply(pd.to_datetime)\n",
        "df[['started_at','ended_at']].dtypes"
      ]
    },
    {
      "cell_type": "markdown",
      "metadata": {
        "id": "ZwM4K3PQI8x0"
      },
      "source": [
        "Now let's create a new variable that will contain the difference between the trip's end and start times."
      ]
    },
    {
      "cell_type": "code",
      "execution_count": null,
      "metadata": {
        "colab": {
          "base_uri": "https://localhost:8080/"
        },
        "id": "kKCg1SpK9p1i",
        "outputId": "62aade0c-91c3-404b-88e8-94e9ba116399"
      },
      "outputs": [
        {
          "data": {
            "text/plain": [
              "0   0 days 00:02:44\n",
              "1   0 days 00:15:14\n",
              "2   0 days 00:03:41\n",
              "3   0 days 00:08:49\n",
              "4   0 days 00:10:32\n",
              "Name: ride_length, dtype: timedelta64[ns]"
            ]
          },
          "execution_count": 11,
          "metadata": {},
          "output_type": "execute_result"
        }
      ],
      "source": [
        "df['ride_length'] = abs(df.ended_at-df.started_at)\n",
        "df.ride_length.head()"
      ]
    },
    {
      "cell_type": "markdown",
      "metadata": {
        "id": "Sz2LZeJlJ550"
      },
      "source": [
        "Let's create other variables containing the day of the week, month, and year when the trip started.\n",
        "\n",
        "**Note:** we are going to retrieve the day of the week, where Monday is 1 and Sunday is 7"
      ]
    },
    {
      "cell_type": "code",
      "execution_count": null,
      "metadata": {
        "id": "xYcpAe-yvtFl"
      },
      "outputs": [],
      "source": [
        "def create_features(df):\n",
        "  '''\n",
        "  Args: \n",
        "    df (DataFrame): a DataFrame object\n",
        "\n",
        "  Returns:\n",
        "    DataFrame: DataFrame with new columns added\n",
        "  '''\n",
        "  df = df.copy() # avoid overwriting the DataFrame\n",
        "  df['day_of_week'] = df.started_at.dt.dayofweek.astype('int8')+1\n",
        "  df['day_of_week_name'] = df.started_at.dt.day_name()\n",
        "  df['hour_of_day'] = df.started_at.dt.hour.astype('int8')\n",
        "  df['year'] = df.started_at.dt.year.astype('int32')\n",
        "  df['month_name'] = df.started_at.dt.month_name()\n",
        "  df['month'] = df.started_at.dt.month.astype('int8')\n",
        "  df['day'] = df.started_at.dt.day.astype('int8')\n",
        "\n",
        "  return df"
      ]
    },
    {
      "cell_type": "code",
      "execution_count": null,
      "metadata": {
        "colab": {
          "base_uri": "https://localhost:8080/"
        },
        "id": "1F-WgpnUiF2S",
        "outputId": "165914dc-e4d7-43ea-dc30-e9618e89797c"
      },
      "outputs": [
        {
          "name": "stdout",
          "output_type": "stream",
          "text": [
            "CPU times: total: 3.59 s\n",
            "\n",
            "Wall time: 3.59 s\n"
          ]
        }
      ],
      "source": [
        "%%time\n",
        "df = create_features(df)"
      ]
    },
    {
      "cell_type": "markdown",
      "metadata": {
        "id": "3OYJEke1jyLm"
      },
      "source": [
        "Let's take a look at the new variables we created:"
      ]
    },
    {
      "cell_type": "code",
      "execution_count": null,
      "metadata": {
        "colab": {
          "base_uri": "https://localhost:8080/",
          "height": 206
        },
        "id": "iv2MHeNNlRrU",
        "outputId": "06faec0f-beaf-40e4-cd71-b74774631cc0"
      },
      "outputs": [
        {
          "data": {
            "text/html": [
              "<div>\n",
              "<style scoped>\n",
              "    .dataframe tbody tr th:only-of-type {\n",
              "        vertical-align: middle;\n",
              "    }\n",
              "\n",
              "    .dataframe tbody tr th {\n",
              "        vertical-align: top;\n",
              "    }\n",
              "\n",
              "    .dataframe thead th {\n",
              "        text-align: right;\n",
              "    }\n",
              "</style>\n",
              "<table border=\"1\" class=\"dataframe\">\n",
              "  <thead>\n",
              "    <tr style=\"text-align: right;\">\n",
              "      <th></th>\n",
              "      <th>started_at</th>\n",
              "      <th>day_of_week</th>\n",
              "      <th>day_of_week_name</th>\n",
              "      <th>hour_of_day</th>\n",
              "      <th>year</th>\n",
              "      <th>month_name</th>\n",
              "      <th>month</th>\n",
              "      <th>day</th>\n",
              "    </tr>\n",
              "  </thead>\n",
              "  <tbody>\n",
              "    <tr>\n",
              "      <th>0</th>\n",
              "      <td>2021-09-28 16:07:10</td>\n",
              "      <td>2</td>\n",
              "      <td>Tuesday</td>\n",
              "      <td>16</td>\n",
              "      <td>2021</td>\n",
              "      <td>September</td>\n",
              "      <td>9</td>\n",
              "      <td>28</td>\n",
              "    </tr>\n",
              "    <tr>\n",
              "      <th>1</th>\n",
              "      <td>2021-09-28 14:24:51</td>\n",
              "      <td>2</td>\n",
              "      <td>Tuesday</td>\n",
              "      <td>14</td>\n",
              "      <td>2021</td>\n",
              "      <td>September</td>\n",
              "      <td>9</td>\n",
              "      <td>28</td>\n",
              "    </tr>\n",
              "    <tr>\n",
              "      <th>2</th>\n",
              "      <td>2021-09-28 00:20:16</td>\n",
              "      <td>2</td>\n",
              "      <td>Tuesday</td>\n",
              "      <td>0</td>\n",
              "      <td>2021</td>\n",
              "      <td>September</td>\n",
              "      <td>9</td>\n",
              "      <td>28</td>\n",
              "    </tr>\n",
              "    <tr>\n",
              "      <th>3</th>\n",
              "      <td>2021-09-28 14:51:17</td>\n",
              "      <td>2</td>\n",
              "      <td>Tuesday</td>\n",
              "      <td>14</td>\n",
              "      <td>2021</td>\n",
              "      <td>September</td>\n",
              "      <td>9</td>\n",
              "      <td>28</td>\n",
              "    </tr>\n",
              "    <tr>\n",
              "      <th>4</th>\n",
              "      <td>2021-09-28 09:53:12</td>\n",
              "      <td>2</td>\n",
              "      <td>Tuesday</td>\n",
              "      <td>9</td>\n",
              "      <td>2021</td>\n",
              "      <td>September</td>\n",
              "      <td>9</td>\n",
              "      <td>28</td>\n",
              "    </tr>\n",
              "  </tbody>\n",
              "</table>\n",
              "</div>"
            ],
            "text/plain": [
              "           started_at  day_of_week day_of_week_name  hour_of_day  year  \\\n",
              "0 2021-09-28 16:07:10            2          Tuesday           16  2021   \n",
              "1 2021-09-28 14:24:51            2          Tuesday           14  2021   \n",
              "2 2021-09-28 00:20:16            2          Tuesday            0  2021   \n",
              "3 2021-09-28 14:51:17            2          Tuesday           14  2021   \n",
              "4 2021-09-28 09:53:12            2          Tuesday            9  2021   \n",
              "\n",
              "  month_name  month  day  \n",
              "0  September      9   28  \n",
              "1  September      9   28  \n",
              "2  September      9   28  \n",
              "3  September      9   28  \n",
              "4  September      9   28  "
            ]
          },
          "execution_count": 14,
          "metadata": {},
          "output_type": "execute_result"
        }
      ],
      "source": [
        "df[['started_at','day_of_week','day_of_week_name','hour_of_day','year','month_name','month','day']].head()"
      ]
    },
    {
      "cell_type": "markdown",
      "metadata": {
        "id": "e4O_SlnivRHe"
      },
      "source": [
        "## Data Cleaning"
      ]
    },
    {
      "cell_type": "markdown",
      "metadata": {
        "id": "gSr60E7vkwp8"
      },
      "source": [
        "This analysis section will focus on detecting null values, duplicates and inconsistencies."
      ]
    },
    {
      "cell_type": "code",
      "execution_count": null,
      "metadata": {
        "colab": {
          "base_uri": "https://localhost:8080/"
        },
        "id": "cP7Gc-vRhSuO",
        "outputId": "8130491e-024f-43e2-a3a9-5bfc306aecee"
      },
      "outputs": [
        {
          "data": {
            "text/plain": [
              "ride_id                0.000000\n",
              "rideable_type          0.000000\n",
              "started_at             0.000000\n",
              "ended_at               0.000000\n",
              "start_station_name    15.032442\n",
              "start_station_id      15.032408\n",
              "end_station_name      16.085264\n",
              "end_station_id        16.085264\n",
              "start_lat              0.000000\n",
              "start_lng              0.000000\n",
              "end_lat                0.097348\n",
              "end_lng                0.097348\n",
              "member_casual          0.000000\n",
              "ride_length            0.000000\n",
              "day_of_week            0.000000\n",
              "day_of_week_name       0.000000\n",
              "hour_of_day            0.000000\n",
              "year                   0.000000\n",
              "month_name             0.000000\n",
              "month                  0.000000\n",
              "day                    0.000000\n",
              "dtype: float64"
            ]
          },
          "execution_count": 15,
          "metadata": {},
          "output_type": "execute_result"
        }
      ],
      "source": [
        "# Observe the columns with missing values and show the missing %\n",
        "df.isna().mean()*100"
      ]
    },
    {
      "cell_type": "markdown",
      "metadata": {
        "id": "jyP10Qm55Ew-"
      },
      "source": [
        "As we can see in the code above, the columns `start_station_name`, `start_station_id`, `end_station_name`, `end_station_id`, `end_lat` and `end_lng` have missing data."
      ]
    },
    {
      "cell_type": "code",
      "execution_count": null,
      "metadata": {
        "colab": {
          "base_uri": "https://localhost:8080/",
          "height": 423
        },
        "id": "xLsLw5dxuKwW",
        "outputId": "c4721d06-a440-42a6-f6b7-d2b3246703c6"
      },
      "outputs": [
        {
          "data": {
            "text/html": [
              "<div>\n",
              "<style scoped>\n",
              "    .dataframe tbody tr th:only-of-type {\n",
              "        vertical-align: middle;\n",
              "    }\n",
              "\n",
              "    .dataframe tbody tr th {\n",
              "        vertical-align: top;\n",
              "    }\n",
              "\n",
              "    .dataframe thead th {\n",
              "        text-align: right;\n",
              "    }\n",
              "</style>\n",
              "<table border=\"1\" class=\"dataframe\">\n",
              "  <thead>\n",
              "    <tr style=\"text-align: right;\">\n",
              "      <th></th>\n",
              "      <th>start_lat</th>\n",
              "      <th>start_lng</th>\n",
              "      <th>end_lat</th>\n",
              "      <th>end_lng</th>\n",
              "      <th>rideable_type</th>\n",
              "    </tr>\n",
              "  </thead>\n",
              "  <tbody>\n",
              "    <tr>\n",
              "      <th>0</th>\n",
              "      <td>41.89</td>\n",
              "      <td>-87.68</td>\n",
              "      <td>41.89</td>\n",
              "      <td>-87.67</td>\n",
              "      <td>electric_bike</td>\n",
              "    </tr>\n",
              "    <tr>\n",
              "      <th>1</th>\n",
              "      <td>41.94</td>\n",
              "      <td>-87.64</td>\n",
              "      <td>41.98</td>\n",
              "      <td>-87.67</td>\n",
              "      <td>electric_bike</td>\n",
              "    </tr>\n",
              "    <tr>\n",
              "      <th>2</th>\n",
              "      <td>41.81</td>\n",
              "      <td>-87.72</td>\n",
              "      <td>41.80</td>\n",
              "      <td>-87.72</td>\n",
              "      <td>electric_bike</td>\n",
              "    </tr>\n",
              "    <tr>\n",
              "      <th>3</th>\n",
              "      <td>41.80</td>\n",
              "      <td>-87.72</td>\n",
              "      <td>41.81</td>\n",
              "      <td>-87.72</td>\n",
              "      <td>electric_bike</td>\n",
              "    </tr>\n",
              "    <tr>\n",
              "      <th>4</th>\n",
              "      <td>41.88</td>\n",
              "      <td>-87.74</td>\n",
              "      <td>41.88</td>\n",
              "      <td>-87.71</td>\n",
              "      <td>electric_bike</td>\n",
              "    </tr>\n",
              "    <tr>\n",
              "      <th>...</th>\n",
              "      <td>...</td>\n",
              "      <td>...</td>\n",
              "      <td>...</td>\n",
              "      <td>...</td>\n",
              "      <td>...</td>\n",
              "    </tr>\n",
              "    <tr>\n",
              "      <th>5868384</th>\n",
              "      <td>41.94</td>\n",
              "      <td>-87.65</td>\n",
              "      <td>41.94</td>\n",
              "      <td>-87.65</td>\n",
              "      <td>electric_bike</td>\n",
              "    </tr>\n",
              "    <tr>\n",
              "      <th>5868385</th>\n",
              "      <td>41.93</td>\n",
              "      <td>-87.65</td>\n",
              "      <td>41.93</td>\n",
              "      <td>-87.65</td>\n",
              "      <td>electric_bike</td>\n",
              "    </tr>\n",
              "    <tr>\n",
              "      <th>5868386</th>\n",
              "      <td>41.79</td>\n",
              "      <td>-87.60</td>\n",
              "      <td>41.80</td>\n",
              "      <td>-87.59</td>\n",
              "      <td>electric_bike</td>\n",
              "    </tr>\n",
              "    <tr>\n",
              "      <th>5868387</th>\n",
              "      <td>41.96</td>\n",
              "      <td>-87.67</td>\n",
              "      <td>41.92</td>\n",
              "      <td>-87.68</td>\n",
              "      <td>electric_bike</td>\n",
              "    </tr>\n",
              "    <tr>\n",
              "      <th>5868388</th>\n",
              "      <td>41.90</td>\n",
              "      <td>-87.68</td>\n",
              "      <td>41.92</td>\n",
              "      <td>-87.70</td>\n",
              "      <td>electric_bike</td>\n",
              "    </tr>\n",
              "  </tbody>\n",
              "</table>\n",
              "<p>884365 rows × 5 columns</p>\n",
              "</div>"
            ],
            "text/plain": [
              "         start_lat  start_lng  end_lat  end_lng  rideable_type\n",
              "0            41.89     -87.68    41.89   -87.67  electric_bike\n",
              "1            41.94     -87.64    41.98   -87.67  electric_bike\n",
              "2            41.81     -87.72    41.80   -87.72  electric_bike\n",
              "3            41.80     -87.72    41.81   -87.72  electric_bike\n",
              "4            41.88     -87.74    41.88   -87.71  electric_bike\n",
              "...            ...        ...      ...      ...            ...\n",
              "5868384      41.94     -87.65    41.94   -87.65  electric_bike\n",
              "5868385      41.93     -87.65    41.93   -87.65  electric_bike\n",
              "5868386      41.79     -87.60    41.80   -87.59  electric_bike\n",
              "5868387      41.96     -87.67    41.92   -87.68  electric_bike\n",
              "5868388      41.90     -87.68    41.92   -87.70  electric_bike\n",
              "\n",
              "[884365 rows x 5 columns]"
            ]
          },
          "execution_count": 16,
          "metadata": {},
          "output_type": "execute_result"
        }
      ],
      "source": [
        "# I used the latitudes and longitudes in GoogleMaps to confirm that there was not a station and we can notice that\n",
        "# this may be a common issue with the electric bikes\n",
        "df[['start_lat','start_lng','end_lat','end_lng','rideable_type']].loc[df.start_station_name.isna()]"
      ]
    },
    {
      "cell_type": "code",
      "execution_count": null,
      "metadata": {
        "colab": {
          "base_uri": "https://localhost:8080/"
        },
        "id": "yr7cdr46krsB",
        "outputId": "1d548ede-de2e-4fdf-f4df-d6153a79ecb4"
      },
      "outputs": [
        {
          "data": {
            "text/plain": [
              "2          NaN\n",
              "18         NaN\n",
              "381        NaN\n",
              "417        NaN\n",
              "515        NaN\n",
              "          ... \n",
              "6672406    NaN\n",
              "6672439    NaN\n",
              "6672456    NaN\n",
              "6672501    NaN\n",
              "6672733    NaN\n",
              "Name: start_station_name, Length: 11399, dtype: object"
            ]
          },
          "execution_count": 36,
          "metadata": {},
          "output_type": "execute_result"
        }
      ],
      "source": [
        "# With this code, I can validate where the station name is Na because there is no station over there, \n",
        "# so we can proceed to drop all Na values.\n",
        "df.start_station_name.loc[(df.start_lat == 41.95)&(df.start_lng == -87.65) ]"
      ]
    },
    {
      "cell_type": "markdown",
      "metadata": {
        "id": "6ajTI-MdpBh2"
      },
      "source": [
        "**GoogleMap image** for lat: 41.95 lng: -87.65:"
      ]
    },
    {
      "cell_type": "markdown",
      "metadata": {},
      "source": [
        "![maps.png](maps.png)"
      ]
    },
    {
      "cell_type": "code",
      "execution_count": null,
      "metadata": {
        "id": "-Bdt7ARKniM6"
      },
      "outputs": [],
      "source": [
        "# Dropping start_lat, start_lng and end_lat, end_lng\n",
        "clean_df = df.drop(['start_lat', 'start_lng', 'end_lat', 'end_lng'], axis=1) "
      ]
    },
    {
      "cell_type": "code",
      "execution_count": null,
      "metadata": {
        "colab": {
          "base_uri": "https://localhost:8080/",
          "height": 491
        },
        "id": "s-ZiGVXG419f",
        "outputId": "8e4c8c77-028d-45ec-fa82-286f370a858c"
      },
      "outputs": [
        {
          "name": "stdout",
          "output_type": "stream",
          "text": [
            "(4560146, 17)\n"
          ]
        },
        {
          "data": {
            "text/html": [
              "<div>\n",
              "<style scoped>\n",
              "    .dataframe tbody tr th:only-of-type {\n",
              "        vertical-align: middle;\n",
              "    }\n",
              "\n",
              "    .dataframe tbody tr th {\n",
              "        vertical-align: top;\n",
              "    }\n",
              "\n",
              "    .dataframe thead th {\n",
              "        text-align: right;\n",
              "    }\n",
              "</style>\n",
              "<table border=\"1\" class=\"dataframe\">\n",
              "  <thead>\n",
              "    <tr style=\"text-align: right;\">\n",
              "      <th></th>\n",
              "      <th>ride_id</th>\n",
              "      <th>rideable_type</th>\n",
              "      <th>started_at</th>\n",
              "      <th>ended_at</th>\n",
              "      <th>start_station_name</th>\n",
              "      <th>start_station_id</th>\n",
              "      <th>end_station_name</th>\n",
              "      <th>end_station_id</th>\n",
              "      <th>member_casual</th>\n",
              "      <th>ride_length</th>\n",
              "      <th>day_of_week</th>\n",
              "      <th>day_of_week_name</th>\n",
              "      <th>hour_of_day</th>\n",
              "      <th>year</th>\n",
              "      <th>month_name</th>\n",
              "      <th>month</th>\n",
              "      <th>day</th>\n",
              "    </tr>\n",
              "  </thead>\n",
              "  <tbody>\n",
              "    <tr>\n",
              "      <th>59</th>\n",
              "      <td>E92C804563F261EC</td>\n",
              "      <td>classic_bike</td>\n",
              "      <td>2021-09-05 01:25:08</td>\n",
              "      <td>2021-09-05 01:35:46</td>\n",
              "      <td>Wells St &amp; Walton St</td>\n",
              "      <td>TA1306000011</td>\n",
              "      <td>Desplaines St &amp; Kinzie St</td>\n",
              "      <td>TA1306000003</td>\n",
              "      <td>casual</td>\n",
              "      <td>0 days 00:10:38</td>\n",
              "      <td>7</td>\n",
              "      <td>Sunday</td>\n",
              "      <td>1</td>\n",
              "      <td>2021</td>\n",
              "      <td>September</td>\n",
              "      <td>9</td>\n",
              "      <td>5</td>\n",
              "    </tr>\n",
              "    <tr>\n",
              "      <th>61</th>\n",
              "      <td>9ECA91210441E847</td>\n",
              "      <td>classic_bike</td>\n",
              "      <td>2021-09-05 13:33:41</td>\n",
              "      <td>2021-09-05 14:06:08</td>\n",
              "      <td>Larrabee St &amp; Armitage Ave</td>\n",
              "      <td>TA1309000006</td>\n",
              "      <td>Clark St &amp; Leland Ave</td>\n",
              "      <td>TA1309000014</td>\n",
              "      <td>casual</td>\n",
              "      <td>0 days 00:32:27</td>\n",
              "      <td>7</td>\n",
              "      <td>Sunday</td>\n",
              "      <td>13</td>\n",
              "      <td>2021</td>\n",
              "      <td>September</td>\n",
              "      <td>9</td>\n",
              "      <td>5</td>\n",
              "    </tr>\n",
              "    <tr>\n",
              "      <th>153</th>\n",
              "      <td>3DAA144C4E85E3AA</td>\n",
              "      <td>classic_bike</td>\n",
              "      <td>2021-09-04 23:00:21</td>\n",
              "      <td>2021-09-04 23:10:00</td>\n",
              "      <td>Dearborn St &amp; Monroe St</td>\n",
              "      <td>TA1305000006</td>\n",
              "      <td>Dearborn St &amp; Monroe St</td>\n",
              "      <td>TA1305000006</td>\n",
              "      <td>casual</td>\n",
              "      <td>0 days 00:09:39</td>\n",
              "      <td>6</td>\n",
              "      <td>Saturday</td>\n",
              "      <td>23</td>\n",
              "      <td>2021</td>\n",
              "      <td>September</td>\n",
              "      <td>9</td>\n",
              "      <td>4</td>\n",
              "    </tr>\n",
              "    <tr>\n",
              "      <th>180</th>\n",
              "      <td>53B99FE9BD0D35F8</td>\n",
              "      <td>classic_bike</td>\n",
              "      <td>2021-09-14 16:25:16</td>\n",
              "      <td>2021-09-14 16:35:03</td>\n",
              "      <td>Kingsbury St &amp; Kinzie St</td>\n",
              "      <td>KA1503000043</td>\n",
              "      <td>Orleans St &amp; Elm St</td>\n",
              "      <td>TA1306000006</td>\n",
              "      <td>casual</td>\n",
              "      <td>0 days 00:09:47</td>\n",
              "      <td>2</td>\n",
              "      <td>Tuesday</td>\n",
              "      <td>16</td>\n",
              "      <td>2021</td>\n",
              "      <td>September</td>\n",
              "      <td>9</td>\n",
              "      <td>14</td>\n",
              "    </tr>\n",
              "    <tr>\n",
              "      <th>182</th>\n",
              "      <td>2DB60C25C8CE3591</td>\n",
              "      <td>classic_bike</td>\n",
              "      <td>2021-09-13 22:34:54</td>\n",
              "      <td>2021-09-13 22:34:58</td>\n",
              "      <td>Michigan Ave &amp; Oak St</td>\n",
              "      <td>13042</td>\n",
              "      <td>Michigan Ave &amp; Oak St</td>\n",
              "      <td>13042</td>\n",
              "      <td>casual</td>\n",
              "      <td>0 days 00:00:04</td>\n",
              "      <td>1</td>\n",
              "      <td>Monday</td>\n",
              "      <td>22</td>\n",
              "      <td>2021</td>\n",
              "      <td>September</td>\n",
              "      <td>9</td>\n",
              "      <td>13</td>\n",
              "    </tr>\n",
              "  </tbody>\n",
              "</table>\n",
              "</div>"
            ],
            "text/plain": [
              "              ride_id rideable_type          started_at            ended_at  \\\n",
              "59   E92C804563F261EC  classic_bike 2021-09-05 01:25:08 2021-09-05 01:35:46   \n",
              "61   9ECA91210441E847  classic_bike 2021-09-05 13:33:41 2021-09-05 14:06:08   \n",
              "153  3DAA144C4E85E3AA  classic_bike 2021-09-04 23:00:21 2021-09-04 23:10:00   \n",
              "180  53B99FE9BD0D35F8  classic_bike 2021-09-14 16:25:16 2021-09-14 16:35:03   \n",
              "182  2DB60C25C8CE3591  classic_bike 2021-09-13 22:34:54 2021-09-13 22:34:58   \n",
              "\n",
              "             start_station_name start_station_id           end_station_name  \\\n",
              "59         Wells St & Walton St     TA1306000011  Desplaines St & Kinzie St   \n",
              "61   Larrabee St & Armitage Ave     TA1309000006      Clark St & Leland Ave   \n",
              "153     Dearborn St & Monroe St     TA1305000006    Dearborn St & Monroe St   \n",
              "180    Kingsbury St & Kinzie St     KA1503000043        Orleans St & Elm St   \n",
              "182       Michigan Ave & Oak St            13042      Michigan Ave & Oak St   \n",
              "\n",
              "    end_station_id member_casual     ride_length  day_of_week  \\\n",
              "59    TA1306000003        casual 0 days 00:10:38            7   \n",
              "61    TA1309000014        casual 0 days 00:32:27            7   \n",
              "153   TA1305000006        casual 0 days 00:09:39            6   \n",
              "180   TA1306000006        casual 0 days 00:09:47            2   \n",
              "182          13042        casual 0 days 00:00:04            1   \n",
              "\n",
              "    day_of_week_name  hour_of_day  year month_name  month  day  \n",
              "59            Sunday            1  2021  September      9    5  \n",
              "61            Sunday           13  2021  September      9    5  \n",
              "153         Saturday           23  2021  September      9    4  \n",
              "180          Tuesday           16  2021  September      9   14  \n",
              "182           Monday           22  2021  September      9   13  "
            ]
          },
          "execution_count": 48,
          "metadata": {},
          "output_type": "execute_result"
        }
      ],
      "source": [
        "# Removing missing values\n",
        "clean_df = clean_df.dropna()\n",
        "print(clean_df.shape)\n",
        "clean_df.head()"
      ]
    },
    {
      "cell_type": "code",
      "execution_count": null,
      "metadata": {
        "colab": {
          "base_uri": "https://localhost:8080/"
        },
        "id": "DsF8zBGRX6SL",
        "outputId": "8ddb9a39-a14b-423c-cd23-165ab13c647b"
      },
      "outputs": [
        {
          "data": {
            "text/plain": [
              "ride_id                       00000123F60251E6\n",
              "rideable_type                     classic_bike\n",
              "started_at                 2021-09-01 00:00:06\n",
              "ended_at                   2021-09-01 00:03:37\n",
              "start_station_name    10101 S Stony Island Ave\n",
              "start_station_id                        021320\n",
              "end_station_name      10101 S Stony Island Ave\n",
              "end_station_id                          021320\n",
              "ride_length                    0 days 00:00:01\n",
              "day_of_week                                  1\n",
              "day_of_week_name                        Friday\n",
              "hour_of_day                                  0\n",
              "year                                      2021\n",
              "month_name                               April\n",
              "month                                        1\n",
              "day                                          1\n",
              "dtype: object"
            ]
          },
          "execution_count": 203,
          "metadata": {},
          "output_type": "execute_result"
        }
      ],
      "source": [
        "clean_df.min()"
      ]
    },
    {
      "cell_type": "markdown",
      "metadata": {
        "id": "phOxvk4elaqo"
      },
      "source": [
        "From the above results, we can notice that the min value for ride_length is 0 days 00:00:00. This is incorrect because every ride length should be greater than 0."
      ]
    },
    {
      "cell_type": "markdown",
      "metadata": {
        "id": "3552Lt7NYEX7"
      },
      "source": [
        "**Removing rows with ride length < 0 days 00:00:00**"
      ]
    },
    {
      "cell_type": "code",
      "execution_count": null,
      "metadata": {
        "id": "5U-hWRpOYPzT"
      },
      "outputs": [],
      "source": [
        "clean_df = clean_df[clean_df['ride_length'] > '00:00:00']"
      ]
    },
    {
      "cell_type": "markdown",
      "metadata": {
        "id": "MTlJcgOCq8yq"
      },
      "source": [
        "Also, we could notice that there were some observations where the hour of the day was 0; this is because these trips started at midnight."
      ]
    },
    {
      "cell_type": "code",
      "execution_count": null,
      "metadata": {
        "colab": {
          "base_uri": "https://localhost:8080/",
          "height": 341
        },
        "id": "XQ0g45GLqasp",
        "outputId": "b9cbb3c7-4e64-4fa3-d578-6905e80c5536"
      },
      "outputs": [
        {
          "data": {
            "text/html": [
              "<div>\n",
              "<style scoped>\n",
              "    .dataframe tbody tr th:only-of-type {\n",
              "        vertical-align: middle;\n",
              "    }\n",
              "\n",
              "    .dataframe tbody tr th {\n",
              "        vertical-align: top;\n",
              "    }\n",
              "\n",
              "    .dataframe thead th {\n",
              "        text-align: right;\n",
              "    }\n",
              "</style>\n",
              "<table border=\"1\" class=\"dataframe\">\n",
              "  <thead>\n",
              "    <tr style=\"text-align: right;\">\n",
              "      <th></th>\n",
              "      <th>ride_id</th>\n",
              "      <th>rideable_type</th>\n",
              "      <th>started_at</th>\n",
              "      <th>ended_at</th>\n",
              "      <th>start_station_name</th>\n",
              "      <th>start_station_id</th>\n",
              "      <th>end_station_name</th>\n",
              "      <th>end_station_id</th>\n",
              "      <th>member_casual</th>\n",
              "      <th>ride_length</th>\n",
              "      <th>day_of_week</th>\n",
              "      <th>day_of_week_name</th>\n",
              "      <th>hour_of_day</th>\n",
              "      <th>year</th>\n",
              "      <th>month_name</th>\n",
              "      <th>month</th>\n",
              "      <th>day</th>\n",
              "    </tr>\n",
              "  </thead>\n",
              "  <tbody>\n",
              "    <tr>\n",
              "      <th>1135</th>\n",
              "      <td>8293F229A2ACFC09</td>\n",
              "      <td>classic_bike</td>\n",
              "      <td>2021-09-12 00:26:45</td>\n",
              "      <td>2021-09-12 00:55:52</td>\n",
              "      <td>Michigan Ave &amp; Oak St</td>\n",
              "      <td>13042</td>\n",
              "      <td>Michigan Ave &amp; Oak St</td>\n",
              "      <td>13042</td>\n",
              "      <td>casual</td>\n",
              "      <td>0 days 00:29:07</td>\n",
              "      <td>7</td>\n",
              "      <td>Sunday</td>\n",
              "      <td>0</td>\n",
              "      <td>2021</td>\n",
              "      <td>September</td>\n",
              "      <td>9</td>\n",
              "      <td>12</td>\n",
              "    </tr>\n",
              "    <tr>\n",
              "      <th>2665</th>\n",
              "      <td>AA58BAE5C423FF3D</td>\n",
              "      <td>classic_bike</td>\n",
              "      <td>2021-09-12 00:06:44</td>\n",
              "      <td>2021-09-12 00:21:17</td>\n",
              "      <td>Clark St &amp; Newport St</td>\n",
              "      <td>632</td>\n",
              "      <td>Ashland Ave &amp; Wrightwood Ave</td>\n",
              "      <td>13296</td>\n",
              "      <td>casual</td>\n",
              "      <td>0 days 00:14:33</td>\n",
              "      <td>7</td>\n",
              "      <td>Sunday</td>\n",
              "      <td>0</td>\n",
              "      <td>2021</td>\n",
              "      <td>September</td>\n",
              "      <td>9</td>\n",
              "      <td>12</td>\n",
              "    </tr>\n",
              "    <tr>\n",
              "      <th>2692</th>\n",
              "      <td>EEAC7865EEC03D0C</td>\n",
              "      <td>docked_bike</td>\n",
              "      <td>2021-09-11 00:30:29</td>\n",
              "      <td>2021-09-11 01:15:24</td>\n",
              "      <td>Michigan Ave &amp; Jackson Blvd</td>\n",
              "      <td>TA1309000002</td>\n",
              "      <td>DuSable Lake Shore Dr &amp; Monroe St</td>\n",
              "      <td>13300</td>\n",
              "      <td>casual</td>\n",
              "      <td>0 days 00:44:55</td>\n",
              "      <td>6</td>\n",
              "      <td>Saturday</td>\n",
              "      <td>0</td>\n",
              "      <td>2021</td>\n",
              "      <td>September</td>\n",
              "      <td>9</td>\n",
              "      <td>11</td>\n",
              "    </tr>\n",
              "  </tbody>\n",
              "</table>\n",
              "</div>"
            ],
            "text/plain": [
              "               ride_id rideable_type          started_at            ended_at  \\\n",
              "1135  8293F229A2ACFC09  classic_bike 2021-09-12 00:26:45 2021-09-12 00:55:52   \n",
              "2665  AA58BAE5C423FF3D  classic_bike 2021-09-12 00:06:44 2021-09-12 00:21:17   \n",
              "2692  EEAC7865EEC03D0C   docked_bike 2021-09-11 00:30:29 2021-09-11 01:15:24   \n",
              "\n",
              "               start_station_name start_station_id  \\\n",
              "1135        Michigan Ave & Oak St            13042   \n",
              "2665        Clark St & Newport St              632   \n",
              "2692  Michigan Ave & Jackson Blvd     TA1309000002   \n",
              "\n",
              "                       end_station_name end_station_id member_casual  \\\n",
              "1135              Michigan Ave & Oak St          13042        casual   \n",
              "2665       Ashland Ave & Wrightwood Ave          13296        casual   \n",
              "2692  DuSable Lake Shore Dr & Monroe St          13300        casual   \n",
              "\n",
              "         ride_length  day_of_week day_of_week_name  hour_of_day  year  \\\n",
              "1135 0 days 00:29:07            7           Sunday            0  2021   \n",
              "2665 0 days 00:14:33            7           Sunday            0  2021   \n",
              "2692 0 days 00:44:55            6         Saturday            0  2021   \n",
              "\n",
              "     month_name  month  day  \n",
              "1135  September      9   12  \n",
              "2665  September      9   12  \n",
              "2692  September      9   11  "
            ]
          },
          "execution_count": 50,
          "metadata": {},
          "output_type": "execute_result"
        }
      ],
      "source": [
        "clean_df.loc[df.hour_of_day ==0].head(3)"
      ]
    },
    {
      "cell_type": "markdown",
      "metadata": {
        "id": "VNfFS3FwPpJG"
      },
      "source": [
        "### Checking for duplicates"
      ]
    },
    {
      "cell_type": "markdown",
      "metadata": {
        "id": "6Oy12jcbQBA3"
      },
      "source": [
        "We use the ride_id column to check for duplicates because each ride should be unique in the dataset."
      ]
    },
    {
      "cell_type": "code",
      "execution_count": null,
      "metadata": {
        "colab": {
          "base_uri": "https://localhost:8080/"
        },
        "id": "bSikgRguPzuK",
        "outputId": "9b4a4681-dde9-4817-f5fe-3937a934f1b1"
      },
      "outputs": [
        {
          "data": {
            "text/plain": [
              "0"
            ]
          },
          "execution_count": 51,
          "metadata": {},
          "output_type": "execute_result"
        }
      ],
      "source": [
        "clean_df.ride_id.duplicated().sum()"
      ]
    },
    {
      "cell_type": "markdown",
      "metadata": {
        "id": "onoHsl3bQVCZ"
      },
      "source": [
        "As we can see in the code above, there's no duplicated ride in the dataset."
      ]
    },
    {
      "cell_type": "markdown",
      "metadata": {
        "id": "pDHx5oELPiiH"
      },
      "source": [
        "### Standardizing station names"
      ]
    },
    {
      "cell_type": "markdown",
      "metadata": {
        "id": "9HuYg2wfoFGe"
      },
      "source": [
        "Making sure every start and end station names are in the title case.\n"
      ]
    },
    {
      "cell_type": "code",
      "execution_count": null,
      "metadata": {
        "id": "dlh4I4_FWKpb"
      },
      "outputs": [],
      "source": [
        "# start_station_name\n",
        "clean_df.start_station_name = clean_df.loc[:,'start_station_name'].apply(str.title)\n",
        "# end_station_name\n",
        "clean_df.end_station_name = clean_df.loc[:,'end_station_name'].apply(str.title)"
      ]
    },
    {
      "cell_type": "code",
      "execution_count": null,
      "metadata": {
        "id": "sXHKaaH-niM8"
      },
      "outputs": [],
      "source": [
        "# Saving our cleaned data\n",
        "clean_df.to_pickle('Cyclistic_clean_data_2021-09_to_2022-08.pkl')"
      ]
    },
    {
      "cell_type": "code",
      "execution_count": 3,
      "metadata": {
        "id": "08_H1oVwniM8"
      },
      "outputs": [],
      "source": [
        "# Loading clean data in the case that needed\n",
        "#clean_df = pd.read_pickle('Cyclistic_clean_data_2021-09_to_2022-08.pkl')"
      ]
    },
    {
      "cell_type": "markdown",
      "metadata": {
        "id": "_tNihsG2uyiu"
      },
      "source": [
        "# Exploratory Data Analysis"
      ]
    },
    {
      "cell_type": "markdown",
      "metadata": {
        "id": "exJd6d--D7J5"
      },
      "source": [
        "In this section, we will start analyzing the data we obtained after cleaning it and preprocessing it to discover insights and answer the question How Divvy bikes are used between annual members and casual riders? so that the marketing team can develop marketing strategies more efficiently by making data-driven decisions thus increasing profits."
      ]
    },
    {
      "cell_type": "markdown",
      "metadata": {
        "id": "RbWWGiNvsW3e"
      },
      "source": [
        "**Let's take a look into our variables:**"
      ]
    },
    {
      "cell_type": "code",
      "execution_count": null,
      "metadata": {
        "colab": {
          "base_uri": "https://localhost:8080/"
        },
        "id": "kM0VyaAmov-W",
        "outputId": "28265be4-ca12-4e0d-f0d2-582c51b5eb10"
      },
      "outputs": [
        {
          "data": {
            "text/plain": [
              "Index(['ride_id', 'rideable_type', 'started_at', 'ended_at',\n",
              "       'start_station_name', 'start_station_id', 'end_station_name',\n",
              "       'end_station_id', 'member_casual', 'ride_length', 'day_of_week',\n",
              "       'day_of_week_name', 'hour_of_day', 'year', 'month_name', 'month',\n",
              "       'day'],\n",
              "      dtype='object')"
            ]
          },
          "execution_count": 56,
          "metadata": {},
          "output_type": "execute_result"
        }
      ],
      "source": [
        "clean_df.columns"
      ]
    },
    {
      "cell_type": "markdown",
      "metadata": {
        "id": "njxVw0uQsfxI"
      },
      "source": [
        "### Describing numerical variables"
      ]
    },
    {
      "cell_type": "markdown",
      "metadata": {
        "id": "Ec_-IUeoIJ5O"
      },
      "source": [
        "Let's take a glance to the statistics of every numerical variables in our dataset:"
      ]
    },
    {
      "cell_type": "code",
      "execution_count": null,
      "metadata": {
        "colab": {
          "base_uri": "https://localhost:8080/",
          "height": 300
        },
        "id": "ArCMKMpBo0TX",
        "outputId": "042ce16d-3dbd-44c7-e9c3-de9461b2ddb1"
      },
      "outputs": [
        {
          "data": {
            "text/html": [
              "<div>\n",
              "<style scoped>\n",
              "    .dataframe tbody tr th:only-of-type {\n",
              "        vertical-align: middle;\n",
              "    }\n",
              "\n",
              "    .dataframe tbody tr th {\n",
              "        vertical-align: top;\n",
              "    }\n",
              "\n",
              "    .dataframe thead th {\n",
              "        text-align: right;\n",
              "    }\n",
              "</style>\n",
              "<table border=\"1\" class=\"dataframe\">\n",
              "  <thead>\n",
              "    <tr style=\"text-align: right;\">\n",
              "      <th></th>\n",
              "      <th>ride_length</th>\n",
              "      <th>day_of_week</th>\n",
              "      <th>hour_of_day</th>\n",
              "      <th>year</th>\n",
              "      <th>month</th>\n",
              "      <th>day</th>\n",
              "    </tr>\n",
              "  </thead>\n",
              "  <tbody>\n",
              "    <tr>\n",
              "      <th>count</th>\n",
              "      <td>4559954</td>\n",
              "      <td>4.559954e+06</td>\n",
              "      <td>4.559954e+06</td>\n",
              "      <td>4.559954e+06</td>\n",
              "      <td>4.559954e+06</td>\n",
              "      <td>4.559954e+06</td>\n",
              "    </tr>\n",
              "    <tr>\n",
              "      <th>mean</th>\n",
              "      <td>0 days 00:18:00.037280858</td>\n",
              "      <td>4.086344e+00</td>\n",
              "      <td>1.421494e+01</td>\n",
              "      <td>2.021664e+03</td>\n",
              "      <td>7.209082e+00</td>\n",
              "      <td>1.569571e+01</td>\n",
              "    </tr>\n",
              "    <tr>\n",
              "      <th>std</th>\n",
              "      <td>0 days 01:15:22.975918701</td>\n",
              "      <td>1.991303e+00</td>\n",
              "      <td>4.976968e+00</td>\n",
              "      <td>4.722802e-01</td>\n",
              "      <td>2.536963e+00</td>\n",
              "      <td>8.709511e+00</td>\n",
              "    </tr>\n",
              "    <tr>\n",
              "      <th>min</th>\n",
              "      <td>0 days 00:00:01</td>\n",
              "      <td>1.000000e+00</td>\n",
              "      <td>0.000000e+00</td>\n",
              "      <td>2.021000e+03</td>\n",
              "      <td>1.000000e+00</td>\n",
              "      <td>1.000000e+00</td>\n",
              "    </tr>\n",
              "    <tr>\n",
              "      <th>25%</th>\n",
              "      <td>0 days 00:06:17</td>\n",
              "      <td>2.000000e+00</td>\n",
              "      <td>1.100000e+01</td>\n",
              "      <td>2.021000e+03</td>\n",
              "      <td>5.000000e+00</td>\n",
              "      <td>9.000000e+00</td>\n",
              "    </tr>\n",
              "    <tr>\n",
              "      <th>50%</th>\n",
              "      <td>0 days 00:11:00</td>\n",
              "      <td>4.000000e+00</td>\n",
              "      <td>1.500000e+01</td>\n",
              "      <td>2.022000e+03</td>\n",
              "      <td>7.000000e+00</td>\n",
              "      <td>1.600000e+01</td>\n",
              "    </tr>\n",
              "    <tr>\n",
              "      <th>75%</th>\n",
              "      <td>0 days 00:19:45</td>\n",
              "      <td>6.000000e+00</td>\n",
              "      <td>1.800000e+01</td>\n",
              "      <td>2.022000e+03</td>\n",
              "      <td>9.000000e+00</td>\n",
              "      <td>2.300000e+01</td>\n",
              "    </tr>\n",
              "    <tr>\n",
              "      <th>max</th>\n",
              "      <td>28 days 06:25:01</td>\n",
              "      <td>7.000000e+00</td>\n",
              "      <td>2.300000e+01</td>\n",
              "      <td>2.022000e+03</td>\n",
              "      <td>1.200000e+01</td>\n",
              "      <td>3.100000e+01</td>\n",
              "    </tr>\n",
              "  </tbody>\n",
              "</table>\n",
              "</div>"
            ],
            "text/plain": [
              "                     ride_length   day_of_week   hour_of_day          year  \\\n",
              "count                    4559954  4.559954e+06  4.559954e+06  4.559954e+06   \n",
              "mean   0 days 00:18:00.037280858  4.086344e+00  1.421494e+01  2.021664e+03   \n",
              "std    0 days 01:15:22.975918701  1.991303e+00  4.976968e+00  4.722802e-01   \n",
              "min              0 days 00:00:01  1.000000e+00  0.000000e+00  2.021000e+03   \n",
              "25%              0 days 00:06:17  2.000000e+00  1.100000e+01  2.021000e+03   \n",
              "50%              0 days 00:11:00  4.000000e+00  1.500000e+01  2.022000e+03   \n",
              "75%              0 days 00:19:45  6.000000e+00  1.800000e+01  2.022000e+03   \n",
              "max             28 days 06:25:01  7.000000e+00  2.300000e+01  2.022000e+03   \n",
              "\n",
              "              month           day  \n",
              "count  4.559954e+06  4.559954e+06  \n",
              "mean   7.209082e+00  1.569571e+01  \n",
              "std    2.536963e+00  8.709511e+00  \n",
              "min    1.000000e+00  1.000000e+00  \n",
              "25%    5.000000e+00  9.000000e+00  \n",
              "50%    7.000000e+00  1.600000e+01  \n",
              "75%    9.000000e+00  2.300000e+01  \n",
              "max    1.200000e+01  3.100000e+01  "
            ]
          },
          "execution_count": 57,
          "metadata": {},
          "output_type": "execute_result"
        }
      ],
      "source": [
        "clean_df.describe()"
      ]
    },
    {
      "cell_type": "markdown",
      "metadata": {
        "id": "64tKDNLow0dI"
      },
      "source": [
        "From the table above, the only statistics that make sense are the ones for the ride length. \n",
        "\n",
        "The general average ride length is 18 minutes. Later we can analyze what is the average ride length for each type of user.\n",
        "\n",
        "The 50% of the rides has a length of 11 minutes or less."
      ]
    },
    {
      "cell_type": "markdown",
      "metadata": {
        "id": "DdjJLV1xsvbK"
      },
      "source": [
        "### Describing caterorical variables"
      ]
    },
    {
      "cell_type": "markdown",
      "metadata": {
        "id": "Z90W5SfecWK9"
      },
      "source": [
        "Now let's take a glance to the statistics of every categorical variables in our dataset:"
      ]
    },
    {
      "cell_type": "code",
      "execution_count": 4,
      "metadata": {
        "colab": {
          "base_uri": "https://localhost:8080/",
          "height": 294
        },
        "id": "s_zZYaBpt-_P",
        "outputId": "c7cda053-6d40-46b8-eea4-e90c2fb026e0"
      },
      "outputs": [
        {
          "data": {
            "text/html": [
              "<div>\n",
              "<style scoped>\n",
              "    .dataframe tbody tr th:only-of-type {\n",
              "        vertical-align: middle;\n",
              "    }\n",
              "\n",
              "    .dataframe tbody tr th {\n",
              "        vertical-align: top;\n",
              "    }\n",
              "\n",
              "    .dataframe thead th {\n",
              "        text-align: right;\n",
              "    }\n",
              "</style>\n",
              "<table border=\"1\" class=\"dataframe\">\n",
              "  <thead>\n",
              "    <tr style=\"text-align: right;\">\n",
              "      <th></th>\n",
              "      <th>ride_id</th>\n",
              "      <th>rideable_type</th>\n",
              "      <th>started_at</th>\n",
              "      <th>ended_at</th>\n",
              "      <th>start_station_name</th>\n",
              "      <th>start_station_id</th>\n",
              "      <th>end_station_name</th>\n",
              "      <th>end_station_id</th>\n",
              "      <th>member_casual</th>\n",
              "      <th>day_of_week_name</th>\n",
              "      <th>month_name</th>\n",
              "    </tr>\n",
              "  </thead>\n",
              "  <tbody>\n",
              "    <tr>\n",
              "      <th>count</th>\n",
              "      <td>4559954</td>\n",
              "      <td>4559954</td>\n",
              "      <td>4559954</td>\n",
              "      <td>4559954</td>\n",
              "      <td>4559954</td>\n",
              "      <td>4559954</td>\n",
              "      <td>4559954</td>\n",
              "      <td>4559954</td>\n",
              "      <td>4559954</td>\n",
              "      <td>4559954</td>\n",
              "      <td>4559954</td>\n",
              "    </tr>\n",
              "    <tr>\n",
              "      <th>unique</th>\n",
              "      <td>4559954</td>\n",
              "      <td>3</td>\n",
              "      <td>3928397</td>\n",
              "      <td>3936091</td>\n",
              "      <td>1365</td>\n",
              "      <td>1220</td>\n",
              "      <td>1395</td>\n",
              "      <td>1237</td>\n",
              "      <td>2</td>\n",
              "      <td>7</td>\n",
              "      <td>12</td>\n",
              "    </tr>\n",
              "    <tr>\n",
              "      <th>top</th>\n",
              "      <td>E92C804563F261EC</td>\n",
              "      <td>classic_bike</td>\n",
              "      <td>2022-07-09 17:23:31</td>\n",
              "      <td>2022-06-22 08:01:59</td>\n",
              "      <td>Streeter Dr &amp; Grand Ave</td>\n",
              "      <td>13022</td>\n",
              "      <td>Streeter Dr &amp; Grand Ave</td>\n",
              "      <td>13022</td>\n",
              "      <td>member</td>\n",
              "      <td>Saturday</td>\n",
              "      <td>July</td>\n",
              "    </tr>\n",
              "    <tr>\n",
              "      <th>freq</th>\n",
              "      <td>1</td>\n",
              "      <td>2890715</td>\n",
              "      <td>8</td>\n",
              "      <td>14</td>\n",
              "      <td>74659</td>\n",
              "      <td>74659</td>\n",
              "      <td>76178</td>\n",
              "      <td>76178</td>\n",
              "      <td>2682048</td>\n",
              "      <td>752888</td>\n",
              "      <td>642643</td>\n",
              "    </tr>\n",
              "    <tr>\n",
              "      <th>first</th>\n",
              "      <td>NaN</td>\n",
              "      <td>NaN</td>\n",
              "      <td>2021-09-01 00:00:06</td>\n",
              "      <td>2021-09-01 00:03:37</td>\n",
              "      <td>NaN</td>\n",
              "      <td>NaN</td>\n",
              "      <td>NaN</td>\n",
              "      <td>NaN</td>\n",
              "      <td>NaN</td>\n",
              "      <td>NaN</td>\n",
              "      <td>NaN</td>\n",
              "    </tr>\n",
              "    <tr>\n",
              "      <th>last</th>\n",
              "      <td>NaN</td>\n",
              "      <td>NaN</td>\n",
              "      <td>2022-08-31 23:58:50</td>\n",
              "      <td>2022-09-01 19:10:49</td>\n",
              "      <td>NaN</td>\n",
              "      <td>NaN</td>\n",
              "      <td>NaN</td>\n",
              "      <td>NaN</td>\n",
              "      <td>NaN</td>\n",
              "      <td>NaN</td>\n",
              "      <td>NaN</td>\n",
              "    </tr>\n",
              "  </tbody>\n",
              "</table>\n",
              "</div>"
            ],
            "text/plain": [
              "                 ride_id rideable_type           started_at  \\\n",
              "count            4559954       4559954              4559954   \n",
              "unique           4559954             3              3928397   \n",
              "top     E92C804563F261EC  classic_bike  2022-07-09 17:23:31   \n",
              "freq                   1       2890715                    8   \n",
              "first                NaN           NaN  2021-09-01 00:00:06   \n",
              "last                 NaN           NaN  2022-08-31 23:58:50   \n",
              "\n",
              "                   ended_at       start_station_name start_station_id  \\\n",
              "count               4559954                  4559954          4559954   \n",
              "unique              3936091                     1365             1220   \n",
              "top     2022-06-22 08:01:59  Streeter Dr & Grand Ave            13022   \n",
              "freq                     14                    74659            74659   \n",
              "first   2021-09-01 00:03:37                      NaN              NaN   \n",
              "last    2022-09-01 19:10:49                      NaN              NaN   \n",
              "\n",
              "               end_station_name end_station_id member_casual day_of_week_name  \\\n",
              "count                   4559954        4559954       4559954          4559954   \n",
              "unique                     1395           1237             2                7   \n",
              "top     Streeter Dr & Grand Ave          13022        member         Saturday   \n",
              "freq                      76178          76178       2682048           752888   \n",
              "first                       NaN            NaN           NaN              NaN   \n",
              "last                        NaN            NaN           NaN              NaN   \n",
              "\n",
              "       month_name  \n",
              "count     4559954  \n",
              "unique         12  \n",
              "top          July  \n",
              "freq       642643  \n",
              "first         NaN  \n",
              "last          NaN  "
            ]
          },
          "execution_count": 4,
          "metadata": {},
          "output_type": "execute_result"
        }
      ],
      "source": [
        "clean_df.describe(exclude = 'number')"
      ]
    },
    {
      "cell_type": "markdown",
      "metadata": {
        "id": "IF2U7dxhvm-1"
      },
      "source": [
        "From the table above we get some insights:\n",
        "\n",
        "- There are more member users than casual users\n",
        "- The most common bike type used in general is the classic\n",
        "- The most used station is the Streeter Dr. & Grand Ave\n",
        "- The most popular day of the week to go for a ride are Saturdays\n",
        "- The most popular month is July. This is the month where most of the trips are made.\n",
        "\n",
        "Later in the analysis we are going to take a look into those insights for each user group."
      ]
    },
    {
      "cell_type": "markdown",
      "metadata": {
        "id": "AABs8FgVniM8"
      },
      "source": [
        "## Proportion of User Type"
      ]
    },
    {
      "cell_type": "markdown",
      "metadata": {
        "id": "NnZnEqHSELA0"
      },
      "source": [
        "Let's find out what is the proportion of users for each user type:"
      ]
    },
    {
      "cell_type": "code",
      "execution_count": 5,
      "metadata": {
        "id": "Y3L0f7KwniM9"
      },
      "outputs": [
        {
          "data": {
            "text/html": [
              "<div>\n",
              "<style scoped>\n",
              "    .dataframe tbody tr th:only-of-type {\n",
              "        vertical-align: middle;\n",
              "    }\n",
              "\n",
              "    .dataframe tbody tr th {\n",
              "        vertical-align: top;\n",
              "    }\n",
              "\n",
              "    .dataframe thead th {\n",
              "        text-align: right;\n",
              "    }\n",
              "</style>\n",
              "<table border=\"1\" class=\"dataframe\">\n",
              "  <thead>\n",
              "    <tr style=\"text-align: right;\">\n",
              "      <th></th>\n",
              "      <th>member_casual</th>\n",
              "      <th>count</th>\n",
              "      <th>proportion</th>\n",
              "    </tr>\n",
              "  </thead>\n",
              "  <tbody>\n",
              "    <tr>\n",
              "      <th>0</th>\n",
              "      <td>casual</td>\n",
              "      <td>1877906</td>\n",
              "      <td>41.182565</td>\n",
              "    </tr>\n",
              "    <tr>\n",
              "      <th>1</th>\n",
              "      <td>member</td>\n",
              "      <td>2682048</td>\n",
              "      <td>58.817435</td>\n",
              "    </tr>\n",
              "  </tbody>\n",
              "</table>\n",
              "</div>"
            ],
            "text/plain": [
              "  member_casual    count  proportion\n",
              "0        casual  1877906   41.182565\n",
              "1        member  2682048   58.817435"
            ]
          },
          "execution_count": 5,
          "metadata": {},
          "output_type": "execute_result"
        }
      ],
      "source": [
        "# Grouping by user type\n",
        "user_proportion = clean_df.groupby('member_casual').size().reset_index(name = 'count')\n",
        "\n",
        "# Getting the proportion of user type\n",
        "user_proportion['proportion'] = (user_proportion['count']/ user_proportion['count'].sum())*100\n",
        "\n",
        "# Display table\n",
        "user_proportion"
      ]
    },
    {
      "cell_type": "markdown",
      "metadata": {
        "id": "yD3yDaBvFkLr"
      },
      "source": [
        "From the table above we can se that member users represent the 58.82% of the total of users, and casual users represent the 41.18%."
      ]
    },
    {
      "cell_type": "markdown",
      "metadata": {},
      "source": [
        "**Visualizing our findings**:"
      ]
    },
    {
      "cell_type": "code",
      "execution_count": 53,
      "metadata": {
        "id": "1N8IBFFlniM9",
        "outputId": "9e331d6b-14b9-4478-c442-8857b9cff418"
      },
      "outputs": [
        {
          "data": {
            "image/png": "[encoded data removed]",
            "text/plain": [
              "<Figure size 1080x432 with 1 Axes>"
            ]
          },
          "metadata": {},
          "output_type": "display_data"
        }
      ],
      "source": [
        "fig, ax = plt.subplots(figsize = (15,6))\n",
        "\n",
        "# Pie chart\n",
        "plt.pie(user_proportion.proportion,\n",
        "        autopct='%1.2f%%',\n",
        "        pctdistance=0.85,\n",
        "        colors =['#413d7b','#348fa7'],\n",
        "        textprops={'fontsize':14,'color':'w'})\n",
        "\n",
        "# Drawing circle to create a donnut chart\n",
        "my_circle=plt.Circle( (0,0), 0.6, color='white')\n",
        "p=plt.gcf()\n",
        "\n",
        "# Adding circle in Pie chart\n",
        "p.gca().add_artist(my_circle)\n",
        "\n",
        "# Adding title\n",
        "plt.title('Divvy User Type Proportion',\n",
        "        fontdict={'fontweight':'bold','fontsize':18})\n",
        "\n",
        "# Adding text in the middle\n",
        "ax.text(0., 0.,'Total Users:\\n{:,.2f}K'.format(user_proportion['count'].sum()/1000), \n",
        "        horizontalalignment='center',\n",
        "        verticalalignment='center',\n",
        "        fontdict={'fontweight':'bold','fontsize':14})\n",
        "        \n",
        "# Adding legend        \n",
        "plt.legend(['casual','member'],title='User Type', bbox_to_anchor=(0.9, 0.6))\n",
        "fig.set_facecolor('w')\n",
        "\n",
        "# Display plot\n",
        "plt.show()\n"
      ]
    },
    {
      "cell_type": "markdown",
      "metadata": {},
      "source": [
        "Here we can see the total number of user and the proportion of casual and member users accordingly."
      ]
    },
    {
      "cell_type": "markdown",
      "metadata": {
        "id": "w4IVfMd2MuYT"
      },
      "source": [
        "## Average Ride Length by User Type"
      ]
    },
    {
      "cell_type": "code",
      "execution_count": null,
      "metadata": {
        "colab": {
          "base_uri": "https://localhost:8080/",
          "height": 112
        },
        "id": "m6N23V0x7SCe",
        "outputId": "10bd729a-d938-4c2a-b1dd-dfba7c231798"
      },
      "outputs": [
        {
          "data": {
            "text/html": [
              "<div>\n",
              "<style scoped>\n",
              "    .dataframe tbody tr th:only-of-type {\n",
              "        vertical-align: middle;\n",
              "    }\n",
              "\n",
              "    .dataframe tbody tr th {\n",
              "        vertical-align: top;\n",
              "    }\n",
              "\n",
              "    .dataframe thead th {\n",
              "        text-align: right;\n",
              "    }\n",
              "</style>\n",
              "<table border=\"1\" class=\"dataframe\">\n",
              "  <thead>\n",
              "    <tr style=\"text-align: right;\">\n",
              "      <th></th>\n",
              "      <th>member_casual</th>\n",
              "      <th>average_ride_length</th>\n",
              "    </tr>\n",
              "  </thead>\n",
              "  <tbody>\n",
              "    <tr>\n",
              "      <th>0</th>\n",
              "      <td>casual</td>\n",
              "      <td>0 days 00:25:47.407986874</td>\n",
              "    </tr>\n",
              "    <tr>\n",
              "      <th>1</th>\n",
              "      <td>member</td>\n",
              "      <td>0 days 00:12:32.795466747</td>\n",
              "    </tr>\n",
              "  </tbody>\n",
              "</table>\n",
              "</div>"
            ],
            "text/plain": [
              "  member_casual       average_ride_length\n",
              "0        casual 0 days 00:25:47.407986874\n",
              "1        member 0 days 00:12:32.795466747"
            ]
          },
          "execution_count": 59,
          "metadata": {},
          "output_type": "execute_result"
        }
      ],
      "source": [
        "# what is the average ride length for members and casual riders?\n",
        "av_ride_length_by_user = clean_df.groupby('member_casual',as_index = False)['ride_length'].mean()\\\n",
        "  .rename(columns={'ride_length':'average_ride_length'})\n",
        "av_ride_length_by_user"
      ]
    },
    {
      "cell_type": "markdown",
      "metadata": {},
      "source": [
        "The average ride length for casual users is 25 minutes.\n",
        "\n",
        "The average ride length for member users is 12 minutes."
      ]
    },
    {
      "cell_type": "markdown",
      "metadata": {},
      "source": [
        "**Visualizing our findings**:"
      ]
    },
    {
      "cell_type": "code",
      "execution_count": null,
      "metadata": {
        "colab": {
          "base_uri": "https://localhost:8080/",
          "height": 350
        },
        "id": "bTaUwUfaOWYa",
        "outputId": "69c8ef55-1fcb-4dac-e1e5-b4c67fbde2ee"
      },
      "outputs": [
        {
          "data": {
            "image/png": "[encoded data removed]",
            "text/plain": [
              "<Figure size 720x360 with 1 Axes>"
            ]
          },
          "metadata": {
            "needs_background": "light"
          },
          "output_type": "display_data"
        }
      ],
      "source": [
        "fig, ax = plt.subplots(figsize=(10, 5))\n",
        "sns.barplot(x = av_ride_length_by_user.member_casual, \n",
        "            y = av_ride_length_by_user.average_ride_length.dt.total_seconds()/60,\n",
        "            ax =ax,\n",
        "            palette='mako')\\\n",
        "  .set(title='Average Ride Length by User', xlabel = 'Member type',\n",
        "       ylabel = 'Average ride length')\n",
        "\n",
        "# Display plot\n",
        "plt.show()"
      ]
    },
    {
      "cell_type": "markdown",
      "metadata": {
        "id": "-n7Dc6Ac0Dl5"
      },
      "source": [
        "On average, casual users have loger ride trips in comparison with member users."
      ]
    },
    {
      "cell_type": "markdown",
      "metadata": {
        "id": "YALo7v5tM9R_"
      },
      "source": [
        "## Average Ride Length per User Type by Day of the Week"
      ]
    },
    {
      "cell_type": "markdown",
      "metadata": {},
      "source": [
        "Now that we know that casual users on average have longer rides, let's find out the average ride length by day of the week for each group of users."
      ]
    },
    {
      "cell_type": "code",
      "execution_count": null,
      "metadata": {
        "colab": {
          "base_uri": "https://localhost:8080/",
          "height": 488
        },
        "id": "VBzWHQe3xsYF",
        "outputId": "3f171ddb-cd65-4bef-ef93-aa4d1ca891b5"
      },
      "outputs": [
        {
          "data": {
            "text/html": [
              "<div>\n",
              "<style scoped>\n",
              "    .dataframe tbody tr th:only-of-type {\n",
              "        vertical-align: middle;\n",
              "    }\n",
              "\n",
              "    .dataframe tbody tr th {\n",
              "        vertical-align: top;\n",
              "    }\n",
              "\n",
              "    .dataframe thead th {\n",
              "        text-align: right;\n",
              "    }\n",
              "</style>\n",
              "<table border=\"1\" class=\"dataframe\">\n",
              "  <thead>\n",
              "    <tr style=\"text-align: right;\">\n",
              "      <th></th>\n",
              "      <th>member_casual</th>\n",
              "      <th>day_of_week_name</th>\n",
              "      <th>average_ride_length</th>\n",
              "    </tr>\n",
              "  </thead>\n",
              "  <tbody>\n",
              "    <tr>\n",
              "      <th>1</th>\n",
              "      <td>casual</td>\n",
              "      <td>Monday</td>\n",
              "      <td>0 days 00:26:46.657052644</td>\n",
              "    </tr>\n",
              "    <tr>\n",
              "      <th>5</th>\n",
              "      <td>casual</td>\n",
              "      <td>Tuesday</td>\n",
              "      <td>0 days 00:22:34.463801400</td>\n",
              "    </tr>\n",
              "    <tr>\n",
              "      <th>6</th>\n",
              "      <td>casual</td>\n",
              "      <td>Wednesday</td>\n",
              "      <td>0 days 00:22:04.992217324</td>\n",
              "    </tr>\n",
              "    <tr>\n",
              "      <th>4</th>\n",
              "      <td>casual</td>\n",
              "      <td>Thursday</td>\n",
              "      <td>0 days 00:22:46.477447873</td>\n",
              "    </tr>\n",
              "    <tr>\n",
              "      <th>0</th>\n",
              "      <td>casual</td>\n",
              "      <td>Friday</td>\n",
              "      <td>0 days 00:24:01.843746002</td>\n",
              "    </tr>\n",
              "    <tr>\n",
              "      <th>2</th>\n",
              "      <td>casual</td>\n",
              "      <td>Saturday</td>\n",
              "      <td>0 days 00:28:23.375437451</td>\n",
              "    </tr>\n",
              "    <tr>\n",
              "      <th>3</th>\n",
              "      <td>casual</td>\n",
              "      <td>Sunday</td>\n",
              "      <td>0 days 00:29:43.455147975</td>\n",
              "    </tr>\n",
              "    <tr>\n",
              "      <th>8</th>\n",
              "      <td>member</td>\n",
              "      <td>Monday</td>\n",
              "      <td>0 days 00:12:09.608896100</td>\n",
              "    </tr>\n",
              "    <tr>\n",
              "      <th>12</th>\n",
              "      <td>member</td>\n",
              "      <td>Tuesday</td>\n",
              "      <td>0 days 00:11:48.799135117</td>\n",
              "    </tr>\n",
              "    <tr>\n",
              "      <th>13</th>\n",
              "      <td>member</td>\n",
              "      <td>Wednesday</td>\n",
              "      <td>0 days 00:11:55.219022446</td>\n",
              "    </tr>\n",
              "    <tr>\n",
              "      <th>11</th>\n",
              "      <td>member</td>\n",
              "      <td>Thursday</td>\n",
              "      <td>0 days 00:12:02.566633976</td>\n",
              "    </tr>\n",
              "    <tr>\n",
              "      <th>7</th>\n",
              "      <td>member</td>\n",
              "      <td>Friday</td>\n",
              "      <td>0 days 00:12:16.118723833</td>\n",
              "    </tr>\n",
              "    <tr>\n",
              "      <th>9</th>\n",
              "      <td>member</td>\n",
              "      <td>Saturday</td>\n",
              "      <td>0 days 00:14:05.253446779</td>\n",
              "    </tr>\n",
              "    <tr>\n",
              "      <th>10</th>\n",
              "      <td>member</td>\n",
              "      <td>Sunday</td>\n",
              "      <td>0 days 00:14:08.189322414</td>\n",
              "    </tr>\n",
              "  </tbody>\n",
              "</table>\n",
              "</div>"
            ],
            "text/plain": [
              "   member_casual day_of_week_name       average_ride_length\n",
              "1         casual           Monday 0 days 00:26:46.657052644\n",
              "5         casual          Tuesday 0 days 00:22:34.463801400\n",
              "6         casual        Wednesday 0 days 00:22:04.992217324\n",
              "4         casual         Thursday 0 days 00:22:46.477447873\n",
              "0         casual           Friday 0 days 00:24:01.843746002\n",
              "2         casual         Saturday 0 days 00:28:23.375437451\n",
              "3         casual           Sunday 0 days 00:29:43.455147975\n",
              "8         member           Monday 0 days 00:12:09.608896100\n",
              "12        member          Tuesday 0 days 00:11:48.799135117\n",
              "13        member        Wednesday 0 days 00:11:55.219022446\n",
              "11        member         Thursday 0 days 00:12:02.566633976\n",
              "7         member           Friday 0 days 00:12:16.118723833\n",
              "9         member         Saturday 0 days 00:14:05.253446779\n",
              "10        member           Sunday 0 days 00:14:08.189322414"
            ]
          },
          "execution_count": 61,
          "metadata": {},
          "output_type": "execute_result"
        }
      ],
      "source": [
        "# Average ride_length for users by day_of_week\n",
        "av_ride_length_by_user_and_day = clean_df.groupby(['member_casual','day_of_week_name'],as_index = False)['ride_length'].mean()\\\n",
        "  .rename(columns ={'ride_length':'average_ride_length'})\n",
        "\n",
        "# Sorting the output by the sorter list.\n",
        "sorter = ['casual','member','Monday', 'Tuesday', 'Wednesday', 'Thursday', 'Friday', 'Saturday','Sunday']\n",
        "av_ride_length_by_user_and_day.sort_values(by=[\"member_casual\",\"day_of_week_name\"], \n",
        "                                           key=lambda column: column.map(lambda e: sorter.index(e)), inplace=True)\n",
        "av_ride_length_by_user_and_day"
      ]
    },
    {
      "cell_type": "markdown",
      "metadata": {},
      "source": [
        "**Visualizing our findings**:"
      ]
    },
    {
      "cell_type": "code",
      "execution_count": 68,
      "metadata": {
        "colab": {
          "base_uri": "https://localhost:8080/",
          "height": 513
        },
        "id": "g-jBhwn-T2HG",
        "outputId": "467f00be-cc32-420f-f9e7-7d37e9fd6e81"
      },
      "outputs": [
        {
          "data": {
            "image/png": "[encoded data removed]",
            "text/plain": [
              "<Figure size 936x432 with 1 Axes>"
            ]
          },
          "metadata": {
            "needs_background": "light"
          },
          "output_type": "display_data"
        }
      ],
      "source": [
        "fig, ax = plt.subplots(figsize=(13, 6))\n",
        "\n",
        "sns.lineplot(x = \"day_of_week_name\",y = av_ride_length_by_user_and_day.average_ride_length.dt.total_seconds()/60,\n",
        "            data =av_ride_length_by_user_and_day, \n",
        "            hue = \"member_casual\",ax=ax,\n",
        "            palette = \"mako\")\\\n",
        "            .set(xlabel=\"Day of week\", ylabel = \"Average ride length\")\n",
        "\n",
        "plt.legend(bbox_to_anchor=(1.02, 1), loc=\"upper left\", borderaxespad=0)\n",
        "plt.title(\"Average Ride Length per User by day of the Week\")\n",
        "\n",
        "# Display plot\n",
        "plt.show()"
      ]
    },
    {
      "cell_type": "markdown",
      "metadata": {
        "id": "78teujrJg4Vv"
      },
      "source": [
        "The graph above shows that users tend to have longer rides on weekends, especially casual users."
      ]
    },
    {
      "cell_type": "markdown",
      "metadata": {
        "id": "OIf6BpRQNMGP"
      },
      "source": [
        "## Number of Rides per User by Day of the Week"
      ]
    },
    {
      "cell_type": "markdown",
      "metadata": {},
      "source": [
        "Now, let's check for the count of daily rides for each of the membership categories."
      ]
    },
    {
      "cell_type": "code",
      "execution_count": 4,
      "metadata": {
        "colab": {
          "base_uri": "https://localhost:8080/",
          "height": 488
        },
        "id": "K-XF7Y-1-hFQ",
        "outputId": "4d9c3e54-c999-4049-af75-4623b14525f4"
      },
      "outputs": [
        {
          "data": {
            "text/html": [
              "<div>\n",
              "<style scoped>\n",
              "    .dataframe tbody tr th:only-of-type {\n",
              "        vertical-align: middle;\n",
              "    }\n",
              "\n",
              "    .dataframe tbody tr th {\n",
              "        vertical-align: top;\n",
              "    }\n",
              "\n",
              "    .dataframe thead th {\n",
              "        text-align: right;\n",
              "    }\n",
              "</style>\n",
              "<table border=\"1\" class=\"dataframe\">\n",
              "  <thead>\n",
              "    <tr style=\"text-align: right;\">\n",
              "      <th></th>\n",
              "      <th>member_casual</th>\n",
              "      <th>day_of_week_name</th>\n",
              "      <th>number_of_rides</th>\n",
              "    </tr>\n",
              "  </thead>\n",
              "  <tbody>\n",
              "    <tr>\n",
              "      <th>1</th>\n",
              "      <td>casual</td>\n",
              "      <td>Monday</td>\n",
              "      <td>221066</td>\n",
              "    </tr>\n",
              "    <tr>\n",
              "      <th>5</th>\n",
              "      <td>casual</td>\n",
              "      <td>Tuesday</td>\n",
              "      <td>205519</td>\n",
              "    </tr>\n",
              "    <tr>\n",
              "      <th>6</th>\n",
              "      <td>casual</td>\n",
              "      <td>Wednesday</td>\n",
              "      <td>216892</td>\n",
              "    </tr>\n",
              "    <tr>\n",
              "      <th>4</th>\n",
              "      <td>casual</td>\n",
              "      <td>Thursday</td>\n",
              "      <td>230976</td>\n",
              "    </tr>\n",
              "    <tr>\n",
              "      <th>0</th>\n",
              "      <td>casual</td>\n",
              "      <td>Friday</td>\n",
              "      <td>257971</td>\n",
              "    </tr>\n",
              "    <tr>\n",
              "      <th>2</th>\n",
              "      <td>casual</td>\n",
              "      <td>Saturday</td>\n",
              "      <td>401473</td>\n",
              "    </tr>\n",
              "    <tr>\n",
              "      <th>3</th>\n",
              "      <td>casual</td>\n",
              "      <td>Sunday</td>\n",
              "      <td>344009</td>\n",
              "    </tr>\n",
              "    <tr>\n",
              "      <th>8</th>\n",
              "      <td>member</td>\n",
              "      <td>Monday</td>\n",
              "      <td>376547</td>\n",
              "    </tr>\n",
              "    <tr>\n",
              "      <th>12</th>\n",
              "      <td>member</td>\n",
              "      <td>Tuesday</td>\n",
              "      <td>426879</td>\n",
              "    </tr>\n",
              "    <tr>\n",
              "      <th>13</th>\n",
              "      <td>member</td>\n",
              "      <td>Wednesday</td>\n",
              "      <td>434718</td>\n",
              "    </tr>\n",
              "    <tr>\n",
              "      <th>11</th>\n",
              "      <td>member</td>\n",
              "      <td>Thursday</td>\n",
              "      <td>412965</td>\n",
              "    </tr>\n",
              "    <tr>\n",
              "      <th>7</th>\n",
              "      <td>member</td>\n",
              "      <td>Friday</td>\n",
              "      <td>365689</td>\n",
              "    </tr>\n",
              "    <tr>\n",
              "      <th>9</th>\n",
              "      <td>member</td>\n",
              "      <td>Saturday</td>\n",
              "      <td>351415</td>\n",
              "    </tr>\n",
              "    <tr>\n",
              "      <th>10</th>\n",
              "      <td>member</td>\n",
              "      <td>Sunday</td>\n",
              "      <td>313835</td>\n",
              "    </tr>\n",
              "  </tbody>\n",
              "</table>\n",
              "</div>"
            ],
            "text/plain": [
              "   member_casual day_of_week_name  number_of_rides\n",
              "1         casual           Monday           221066\n",
              "5         casual          Tuesday           205519\n",
              "6         casual        Wednesday           216892\n",
              "4         casual         Thursday           230976\n",
              "0         casual           Friday           257971\n",
              "2         casual         Saturday           401473\n",
              "3         casual           Sunday           344009\n",
              "8         member           Monday           376547\n",
              "12        member          Tuesday           426879\n",
              "13        member        Wednesday           434718\n",
              "11        member         Thursday           412965\n",
              "7         member           Friday           365689\n",
              "9         member         Saturday           351415\n",
              "10        member           Sunday           313835"
            ]
          },
          "execution_count": 4,
          "metadata": {},
          "output_type": "execute_result"
        }
      ],
      "source": [
        "# Number of rides for users by day_of_week\n",
        "number_user_rides_by_day=clean_df.groupby(['member_casual','day_of_week_name'],\n",
        "                                    as_index = False)['ride_id'].count()\\\n",
        "  .rename(columns ={'ride_id':'number_of_rides'})\n",
        "\n",
        "# Sorting the output by the sorter list.\n",
        "sorter = ['casual','member','Monday', 'Tuesday', 'Wednesday', 'Thursday', 'Friday', 'Saturday','Sunday']\n",
        "number_user_rides_by_day.sort_values(by=[\"member_casual\",\"day_of_week_name\"], \n",
        "                                           key=lambda column: column.map(lambda e: sorter.index(e)), inplace=True)\n",
        "number_user_rides_by_day"
      ]
    },
    {
      "cell_type": "markdown",
      "metadata": {},
      "source": [
        "**Visualizing our findings**:"
      ]
    },
    {
      "cell_type": "code",
      "execution_count": 77,
      "metadata": {
        "colab": {
          "base_uri": "https://localhost:8080/",
          "height": 404
        },
        "id": "fE5slBbJm7LN",
        "outputId": "c282b382-673e-496a-a599-8847973539b6"
      },
      "outputs": [
        {
          "data": {
            "image/png": "[encoded data removed]",
            "text/plain": [
              "<Figure size 1080x432 with 1 Axes>"
            ]
          },
          "metadata": {
            "needs_background": "light"
          },
          "output_type": "display_data"
        }
      ],
      "source": [
        "fig, ax = plt.subplots(figsize=(15, 6))\n",
        "sns.lineplot(x = 'day_of_week_name',\n",
        "             y = 'number_of_rides',\n",
        "             data = number_user_rides_by_day,\n",
        "             hue ='member_casual',ax=ax,\n",
        "             palette = 'mako')\\\n",
        "             .set(title='Number of rides per user by day of the week',\n",
        "                  xlabel = 'Day of the week',\n",
        "                  ylabel = 'Number of rides')\n",
        "# Display plot\n",
        "plt.show()"
      ]
    },
    {
      "cell_type": "markdown",
      "metadata": {
        "id": "IbfXnV6ry6C7"
      },
      "source": [
        "We can see clearly that casual users ride more often on weekends and member users on weekdays."
      ]
    },
    {
      "cell_type": "markdown",
      "metadata": {},
      "source": [
        "## Number of Rides per User by Hour"
      ]
    },
    {
      "cell_type": "markdown",
      "metadata": {},
      "source": [
        "Let's see what is the most busy hour of the day for each of the membership categories."
      ]
    },
    {
      "cell_type": "code",
      "execution_count": 80,
      "metadata": {},
      "outputs": [
        {
          "data": {
            "text/html": [
              "<div>\n",
              "<style scoped>\n",
              "    .dataframe tbody tr th:only-of-type {\n",
              "        vertical-align: middle;\n",
              "    }\n",
              "\n",
              "    .dataframe tbody tr th {\n",
              "        vertical-align: top;\n",
              "    }\n",
              "\n",
              "    .dataframe thead th {\n",
              "        text-align: right;\n",
              "    }\n",
              "</style>\n",
              "<table border=\"1\" class=\"dataframe\">\n",
              "  <thead>\n",
              "    <tr style=\"text-align: right;\">\n",
              "      <th></th>\n",
              "      <th>member_casual</th>\n",
              "      <th>hour_of_day</th>\n",
              "      <th>number_of_rides</th>\n",
              "    </tr>\n",
              "  </thead>\n",
              "  <tbody>\n",
              "    <tr>\n",
              "      <th>0</th>\n",
              "      <td>casual</td>\n",
              "      <td>0</td>\n",
              "      <td>35794</td>\n",
              "    </tr>\n",
              "    <tr>\n",
              "      <th>1</th>\n",
              "      <td>casual</td>\n",
              "      <td>1</td>\n",
              "      <td>23412</td>\n",
              "    </tr>\n",
              "    <tr>\n",
              "      <th>2</th>\n",
              "      <td>casual</td>\n",
              "      <td>2</td>\n",
              "      <td>14243</td>\n",
              "    </tr>\n",
              "    <tr>\n",
              "      <th>3</th>\n",
              "      <td>casual</td>\n",
              "      <td>3</td>\n",
              "      <td>7957</td>\n",
              "    </tr>\n",
              "    <tr>\n",
              "      <th>4</th>\n",
              "      <td>casual</td>\n",
              "      <td>4</td>\n",
              "      <td>5343</td>\n",
              "    </tr>\n",
              "  </tbody>\n",
              "</table>\n",
              "</div>"
            ],
            "text/plain": [
              "  member_casual  hour_of_day  number_of_rides\n",
              "0        casual            0            35794\n",
              "1        casual            1            23412\n",
              "2        casual            2            14243\n",
              "3        casual            3             7957\n",
              "4        casual            4             5343"
            ]
          },
          "execution_count": 80,
          "metadata": {},
          "output_type": "execute_result"
        }
      ],
      "source": [
        "# Number of rides for users by Hour\n",
        "number_user_rides_by_hour=clean_df.groupby(['member_casual','hour_of_day'],\n",
        "                                    as_index = False)['ride_id'].count()\\\n",
        "  .rename(columns ={'ride_id':'number_of_rides'})\n",
        "\n",
        "# Sorting the output by the sorter list.\n",
        "number_user_rides_by_hour.sort_values(by=[\"member_casual\",\"hour_of_day\"])\n",
        "\n",
        "# Display first 5 rows\n",
        "number_user_rides_by_hour.head()"
      ]
    },
    {
      "cell_type": "markdown",
      "metadata": {},
      "source": [
        "For us to be able to see this information in a more useful way, let's see the graph below."
      ]
    },
    {
      "cell_type": "markdown",
      "metadata": {},
      "source": [
        "**Visualizing our findings**:"
      ]
    },
    {
      "cell_type": "code",
      "execution_count": 92,
      "metadata": {},
      "outputs": [
        {
          "data": {
            "image/png": "[encoded data removed]",
            "text/plain": [
              "<Figure size 1080x432 with 1 Axes>"
            ]
          },
          "metadata": {
            "needs_background": "light"
          },
          "output_type": "display_data"
        }
      ],
      "source": [
        "fig, ax = plt.subplots(figsize=(15, 6))\n",
        "sns.lineplot(x = 'hour_of_day',\n",
        "             y = 'number_of_rides',\n",
        "             data = number_user_rides_by_hour,\n",
        "             hue ='member_casual',ax=ax,\n",
        "             palette = 'mako')\\\n",
        "             .set(title='Number of Rides per User by Hour',\n",
        "                  xlabel = 'Hour',\n",
        "                  ylabel = 'Number of rides')\n",
        "\n",
        "ax.set_xticks(np.arange(min(number_user_rides_by_hour.hour_of_day),\n",
        "               max(number_user_rides_by_hour.hour_of_day),1))\n",
        "# Display plot               \n",
        "plt.show()"
      ]
    },
    {
      "cell_type": "markdown",
      "metadata": {},
      "source": [
        "Now we can see clearly that the busiest hour is around 5:00 PM. Also, we can notice that in the case of member users, there's a pick between 7:00 AM and 8:00 AM, when people usually go to work."
      ]
    },
    {
      "cell_type": "markdown",
      "metadata": {
        "id": "EDnt6RhBN7fu"
      },
      "source": [
        "## Distribution of Rides by Hour"
      ]
    },
    {
      "cell_type": "markdown",
      "metadata": {},
      "source": [
        "Now that we know what is the busiest hour of the day, it will be interesting to see the distribution of rides by hour."
      ]
    },
    {
      "cell_type": "code",
      "execution_count": 93,
      "metadata": {
        "colab": {
          "base_uri": "https://localhost:8080/",
          "height": 369
        },
        "id": "RGkBvdUoxq97",
        "outputId": "4dbc7885-b786-444b-f424-892b2630b54e"
      },
      "outputs": [
        {
          "data": {
            "image/png": "[encoded data removed]",
            "text/plain": [
              "<Figure size 720x360 with 2 Axes>"
            ]
          },
          "metadata": {
            "needs_background": "light"
          },
          "output_type": "display_data"
        }
      ],
      "source": [
        "# Distribution of rides by hour.\n",
        "g =sns.displot(clean_df, \n",
        "               x=\"hour_of_day\", \n",
        "               col=\"member_casual\")\n",
        "\n",
        "# Setting title\n",
        "g.figure.subplots_adjust(top=0.8)\n",
        "g.fig.suptitle('Distribuition of rides by hour of the day',fontsize=20,\n",
        "    fontdict={'weight': 'bold'}) \n",
        "\n",
        "# Setting X labels\n",
        "g.set_xlabels('Hour of day',fontsize = 18)\n",
        "\n",
        "# Setting Y labels\n",
        "g.set_ylabels('Trips', fontsize = 18)\n",
        "\n",
        "# Display plot\n",
        "plt.show()"
      ]
    },
    {
      "cell_type": "markdown",
      "metadata": {
        "id": "lB5r7ZNTniM_"
      },
      "source": [
        "This is an insteresting finding. Here we can see that there are two group of people for each member category, one between 12:00 A.M. and 4:00 A.M. and the other between 5:00 A.M and 23:00 P.M"
      ]
    },
    {
      "cell_type": "markdown",
      "metadata": {
        "id": "bkzkreJnniM_"
      },
      "source": [
        "## Number of Trips by Month"
      ]
    },
    {
      "cell_type": "code",
      "execution_count": 95,
      "metadata": {
        "id": "8D4r1jWMniM_",
        "outputId": "7e4f9a7b-0479-4cbe-8fcb-a043073f1c30"
      },
      "outputs": [
        {
          "data": {
            "image/png": "[encoded data removed]",
            "text/plain": [
              "<Figure size 738.75x432 with 1 Axes>"
            ]
          },
          "metadata": {
            "needs_background": "light"
          },
          "output_type": "display_data"
        }
      ],
      "source": [
        "# Grouping by month_name and started_at date and getting number of trips\n",
        "user_rides_per_month = clean_df.groupby(['month_name','started_at'])\\\n",
        "  .size().reset_index(name = 'counts')\n",
        "\n",
        "# Creating plot\n",
        "g = sns.relplot(x = user_rides_per_month.started_at.dt.date,\n",
        "            y = 'counts',\n",
        "            data = user_rides_per_month,\n",
        "            hue= 'month_name',\n",
        "            kind ='line',\n",
        "            height=6,\n",
        "            aspect=1.5,\n",
        "            hue_order=['January','February','March','April','May','June','July','August','September','October','November','December'])\n",
        "\n",
        "# Changing the number of Xticks displayed\n",
        "g.set(xticks=pd.date_range(start = '8/1/2021', periods = 12, freq = 'M'))\n",
        "\n",
        "g.figure.subplots_adjust(top=0.9)\n",
        "\n",
        "# Setting the tittle\n",
        "g.figure.suptitle(\n",
        "    'Number of Tips by Month from September 2021 to August 2022',\n",
        "    fontsize=20,\n",
        "    fontdict={\"weight\": \"bold\"}\n",
        ")\n",
        "# Setting X labels\n",
        "g.set_xlabels('Month',fontsize = 18)\n",
        "\n",
        "# Setting Y labels\n",
        "g.set_ylabels('Trips', fontsize = 18)\n",
        "\n",
        "# Changing Xticks labels to month names\n",
        "g.set_xticklabels(['September','October','November','December','January','February','March','April','May','June','July','August'],\n",
        "                  rotation = 45)\n",
        "# Display plot                  \n",
        "plt.show()"
      ]
    },
    {
      "cell_type": "markdown",
      "metadata": {},
      "source": [
        "The months where are fewer rides are December, January, February, and March which is the winter season."
      ]
    },
    {
      "cell_type": "markdown",
      "metadata": {
        "id": "j4kg7jdtORMh"
      },
      "source": [
        "## Number of Trips by Month per User Type "
      ]
    },
    {
      "cell_type": "markdown",
      "metadata": {},
      "source": [
        "It's time to see how many trips each user category have done in the last year by month."
      ]
    },
    {
      "cell_type": "code",
      "execution_count": null,
      "metadata": {
        "colab": {
          "base_uri": "https://localhost:8080/",
          "height": 295
        },
        "id": "uhUATKFjK8_a",
        "outputId": "b82ec91c-c8d5-420a-95d3-7fc154cb0d71"
      },
      "outputs": [
        {
          "data": {
            "image/png": "[encoded data removed]",
            "text/plain": [
              "<Figure size 1080x432 with 1 Axes>"
            ]
          },
          "metadata": {
            "needs_background": "light"
          },
          "output_type": "display_data"
        }
      ],
      "source": [
        "fig, ax = plt.subplots(figsize = (15,6))\n",
        "sns.countplot(y = 'month_name',\n",
        "              data = clean_df,\n",
        "              hue = 'member_casual',\n",
        "              palette = 'mako', \n",
        "              ax = ax)\n",
        "\n",
        "ax.set_title('Number of Trips by Month per User Type',fontdict = {'fontweight':'bold','fontsize':20})\n",
        "ax.set_ylabel('Month',fontsize = 18)\n",
        "ax.set_xlabel('Trips', fontsize =18)\n",
        "\n",
        "# Display plot\n",
        "plt.show()"
      ]
    },
    {
      "cell_type": "markdown",
      "metadata": {},
      "source": [
        "In general, member users have more trips every month, this is because they use our bikes more often on weekdays, in comparison with casual users that tend to use our bikes more often on weekends. In the same sense, the months in which casual users use our bikes the least are January and February (Winter season)."
      ]
    },
    {
      "cell_type": "code",
      "execution_count": 119,
      "metadata": {},
      "outputs": [
        {
          "data": {
            "image/png": "[encoded data removed]",
            "text/plain": [
              "<Figure size 1080x432 with 1 Axes>"
            ]
          },
          "metadata": {
            "needs_background": "light"
          },
          "output_type": "display_data"
        }
      ],
      "source": [
        "# Number of trips by month per user type Line chart\n",
        "fig, ax = plt.subplots(figsize = (15,6))\n",
        "g = sns.lineplot(x = 'month',\n",
        "            y = 'number_of_rides',\n",
        "              data = clean_df.groupby(['member_casual','month'],\n",
        "                                    as_index = False)['ride_id'].count()\\\n",
        "                                    .rename(columns ={'ride_id':'number_of_rides'}),\n",
        "              hue = 'member_casual',\n",
        "              palette = 'mako', \n",
        "              ax = ax)\n",
        "\n",
        "ax.set_title('Number of Trips by Month per User Type',fontdict = {'fontweight':'bold','fontsize':20})\n",
        "ax.set_ylabel('Month',fontsize = 18)\n",
        "ax.set_xlabel('Trips', fontsize =18)\n",
        "\n",
        "# Getting all ticks for the 12 months\n",
        "ax.set_xticks(np.arange(min(clean_df.month),\n",
        "               max(clean_df.month)+1,1))\n",
        "               \n",
        "# Changing ticks labels\n",
        "g.set_xticklabels(['January','February','March','April','May','June','July','August','September','October','November','December'],\n",
        "                  rotation = 45)\n",
        "\n",
        "# Display plot\n",
        "plt.show()"
      ]
    },
    {
      "cell_type": "markdown",
      "metadata": {},
      "source": [
        "From this graph we can see more clearly that the busiest months are June and July."
      ]
    },
    {
      "cell_type": "markdown",
      "metadata": {
        "id": "13b6yz0Bv74g"
      },
      "source": [
        "### Distribution of rides by month\n"
      ]
    },
    {
      "cell_type": "markdown",
      "metadata": {},
      "source": [
        "Let's see its distribution by month."
      ]
    },
    {
      "cell_type": "code",
      "execution_count": 94,
      "metadata": {
        "id": "alNqgO-7niM_",
        "outputId": "3ab783fc-ec54-4108-e35a-d0be1e3e66f7"
      },
      "outputs": [
        {
          "data": {
            "image/png": "[encoded data removed]",
            "text/plain": [
              "<Figure size 720x360 with 2 Axes>"
            ]
          },
          "metadata": {
            "needs_background": "light"
          },
          "output_type": "display_data"
        }
      ],
      "source": [
        "# Distplot for rides by month per user type\n",
        "g =sns.displot(clean_df, \n",
        "               x=\"month\", \n",
        "               col=\"member_casual\")\n",
        "# Setting title\n",
        "g.figure.subplots_adjust(top=0.8)\n",
        "g.fig.suptitle('Distribuition of rides by month',fontsize=20,\n",
        "    fontdict={'weight': 'bold'}) \n",
        "\n",
        "# Setting X labels\n",
        "g.set_xlabels('Month',fontsize = 18)\n",
        "\n",
        "# Setting Y labels\n",
        "g.set_ylabels('Trips', fontsize = 18)\n",
        "\n",
        "# Display plot\n",
        "plt.show()"
      ]
    },
    {
      "cell_type": "markdown",
      "metadata": {},
      "source": [
        "The number of rides, in general, is normally distributed across the months for each user category."
      ]
    },
    {
      "cell_type": "markdown",
      "metadata": {
        "id": "lpRF68bBNYyc"
      },
      "source": [
        "## Type of Bike used by User Type"
      ]
    },
    {
      "cell_type": "markdown",
      "metadata": {},
      "source": [
        "Now that we know the busiest months, days, and hours where each user type tends to ride more often, it's time to find out what is the most common type of bike they use."
      ]
    },
    {
      "cell_type": "code",
      "execution_count": null,
      "metadata": {
        "colab": {
          "base_uri": "https://localhost:8080/",
          "height": 237
        },
        "id": "yKSiCZDS2jPR",
        "outputId": "3b5e54fb-7276-4abd-8f58-10e626cbcb4e"
      },
      "outputs": [
        {
          "data": {
            "text/html": [
              "<div>\n",
              "<style scoped>\n",
              "    .dataframe tbody tr th:only-of-type {\n",
              "        vertical-align: middle;\n",
              "    }\n",
              "\n",
              "    .dataframe tbody tr th {\n",
              "        vertical-align: top;\n",
              "    }\n",
              "\n",
              "    .dataframe thead th {\n",
              "        text-align: right;\n",
              "    }\n",
              "</style>\n",
              "<table border=\"1\" class=\"dataframe\">\n",
              "  <thead>\n",
              "    <tr style=\"text-align: right;\">\n",
              "      <th></th>\n",
              "      <th>member_casual</th>\n",
              "      <th>rideable_type</th>\n",
              "      <th>counts</th>\n",
              "    </tr>\n",
              "  </thead>\n",
              "  <tbody>\n",
              "    <tr>\n",
              "      <th>0</th>\n",
              "      <td>casual</td>\n",
              "      <td>classic_bike</td>\n",
              "      <td>1027978</td>\n",
              "    </tr>\n",
              "    <tr>\n",
              "      <th>1</th>\n",
              "      <td>casual</td>\n",
              "      <td>docked_bike</td>\n",
              "      <td>205771</td>\n",
              "    </tr>\n",
              "    <tr>\n",
              "      <th>2</th>\n",
              "      <td>casual</td>\n",
              "      <td>electric_bike</td>\n",
              "      <td>644157</td>\n",
              "    </tr>\n",
              "    <tr>\n",
              "      <th>3</th>\n",
              "      <td>member</td>\n",
              "      <td>classic_bike</td>\n",
              "      <td>1862737</td>\n",
              "    </tr>\n",
              "    <tr>\n",
              "      <th>4</th>\n",
              "      <td>member</td>\n",
              "      <td>docked_bike</td>\n",
              "      <td>0</td>\n",
              "    </tr>\n",
              "    <tr>\n",
              "      <th>5</th>\n",
              "      <td>member</td>\n",
              "      <td>electric_bike</td>\n",
              "      <td>819311</td>\n",
              "    </tr>\n",
              "  </tbody>\n",
              "</table>\n",
              "</div>"
            ],
            "text/plain": [
              "  member_casual  rideable_type   counts\n",
              "0        casual   classic_bike  1027978\n",
              "1        casual    docked_bike   205771\n",
              "2        casual  electric_bike   644157\n",
              "3        member   classic_bike  1862737\n",
              "4        member    docked_bike        0\n",
              "5        member  electric_bike   819311"
            ]
          },
          "execution_count": 65,
          "metadata": {},
          "output_type": "execute_result"
        }
      ],
      "source": [
        "# Bike used by user type\n",
        "user_rides_by_bike_type = clean_df.groupby(['member_casual','rideable_type'])\\\n",
        "  .size().reset_index(name = 'counts')\n",
        "\n",
        "user_rides_by_bike_type"
      ]
    },
    {
      "cell_type": "markdown",
      "metadata": {},
      "source": [
        "From this table, we can see that the Classic Bike is preferred for both types of users, followed by the Electric Bike.\n",
        "\n",
        "A curious observation is that member users haven't used Docked Bikes in the last year of data available. "
      ]
    },
    {
      "cell_type": "markdown",
      "metadata": {},
      "source": [
        "**Visualizing our findings**:"
      ]
    },
    {
      "cell_type": "code",
      "execution_count": 122,
      "metadata": {
        "colab": {
          "base_uri": "https://localhost:8080/",
          "height": 295
        },
        "id": "FX14wsHx4V7Z",
        "outputId": "e9c55a30-04b0-487c-9bdf-b29e06ceace3"
      },
      "outputs": [
        {
          "data": {
            "image/png": "[encoded data removed]",
            "text/plain": [
              "<Figure size 1080x432 with 1 Axes>"
            ]
          },
          "metadata": {
            "needs_background": "light"
          },
          "output_type": "display_data"
        }
      ],
      "source": [
        "fig, ax = plt.subplots(figsize=(15, 6))\n",
        "sns.countplot(y = 'rideable_type', data = clean_df,\n",
        "              hue = 'member_casual',palette = 'mako',ax = ax)\n",
        "\n",
        "# Setting the Title\n",
        "ax.set_title('Bike Type Used by User Type', fontdict={'fontweight':'bold','fontsize':20})\n",
        "\n",
        "# Setting the Ylabel\n",
        "ax.set_ylabel('Bike Type', fontsize = 14)\n",
        "\n",
        "# Setting the Xlabe;\n",
        "ax.set_xlabel('Trips', fontsize = 14)\n",
        "\n",
        "# Display plot\n",
        "plt.show()"
      ]
    },
    {
      "cell_type": "markdown",
      "metadata": {
        "id": "BCDtnn7E7P7b"
      },
      "source": [
        "This is an easiest way to interpret the data. "
      ]
    },
    {
      "cell_type": "markdown",
      "metadata": {
        "id": "QnbxYM192D4T"
      },
      "source": [
        "### Correlation between Month and Ride Length"
      ]
    },
    {
      "cell_type": "markdown",
      "metadata": {
        "id": "9B6SQYx16Jl6"
      },
      "source": [
        "Let's take a look to see if there is some sort of relationship between the Month of the year and the Ride Length. This information could be useful to create some kind of campaign."
      ]
    },
    {
      "cell_type": "code",
      "execution_count": 126,
      "metadata": {
        "colab": {
          "base_uri": "https://localhost:8080/",
          "height": 308
        },
        "id": "95OvddckxAkZ",
        "outputId": "d384f01f-d6fc-4fe5-8de1-06b6e076421d"
      },
      "outputs": [
        {
          "data": {
            "image/png": "[encoded data removed]",
            "text/plain": [
              "<Figure size 1080x432 with 1 Axes>"
            ]
          },
          "metadata": {
            "needs_background": "light"
          },
          "output_type": "display_data"
        }
      ],
      "source": [
        "# relationship between month and ride length\n",
        "fig, ax = plt.subplots(figsize=(15,6))\n",
        "sns.scatterplot(x = 'month',y ='ride_length', data = clean_df,hue ='member_casual')\n",
        "\n",
        "# Setting the Title\n",
        "ax.set_title('Correlation Between Month and Ride Length', fontdict={'fontweight':'bold','fontsize':20})\n",
        "\n",
        "# Setting the Ylabel\n",
        "ax.set_ylabel('Ride Length', fontsize = 14)\n",
        "\n",
        "# Setting the Xlabe;\n",
        "ax.set_xlabel('Month', fontsize = 14)\n",
        "\n",
        "# Display plot\n",
        "plt.show()"
      ]
    },
    {
      "cell_type": "markdown",
      "metadata": {
        "id": "xjO327ityHe4"
      },
      "source": [
        "There is no linear relationship between the month of the year and the ride length by the user. So we cannot say that one affects the other."
      ]
    },
    {
      "cell_type": "markdown",
      "metadata": {
        "id": "2H1fycapniM_"
      },
      "source": [
        "## Top 30 Departure and Arrival Stations For Casual Riders"
      ]
    },
    {
      "cell_type": "markdown",
      "metadata": {},
      "source": [
        "Let's find out which are the most common start and end stationshow and how many are round trips for **casual users**:"
      ]
    },
    {
      "cell_type": "code",
      "execution_count": 7,
      "metadata": {
        "id": "-3T0laUQ6ySn"
      },
      "outputs": [
        {
          "data": {
            "text/html": [
              "<div>\n",
              "<style scoped>\n",
              "    .dataframe tbody tr th:only-of-type {\n",
              "        vertical-align: middle;\n",
              "    }\n",
              "\n",
              "    .dataframe tbody tr th {\n",
              "        vertical-align: top;\n",
              "    }\n",
              "\n",
              "    .dataframe thead th {\n",
              "        text-align: right;\n",
              "    }\n",
              "</style>\n",
              "<table border=\"1\" class=\"dataframe\">\n",
              "  <thead>\n",
              "    <tr style=\"text-align: right;\">\n",
              "      <th></th>\n",
              "      <th>station</th>\n",
              "      <th>same_start_and_end_station</th>\n",
              "      <th>counts</th>\n",
              "    </tr>\n",
              "  </thead>\n",
              "  <tbody>\n",
              "    <tr>\n",
              "      <th>117642</th>\n",
              "      <td>Streeter Dr &amp; Grand Ave-Streeter Dr &amp; Grand Ave</td>\n",
              "      <td>Yes</td>\n",
              "      <td>10895</td>\n",
              "    </tr>\n",
              "    <tr>\n",
              "      <th>44074</th>\n",
              "      <td>Dusable Lake Shore Dr &amp; Monroe St-Dusable Lake...</td>\n",
              "      <td>Yes</td>\n",
              "      <td>6610</td>\n",
              "    </tr>\n",
              "    <tr>\n",
              "      <th>44301</th>\n",
              "      <td>Dusable Lake Shore Dr &amp; Monroe St-Streeter Dr ...</td>\n",
              "      <td>No</td>\n",
              "      <td>5356</td>\n",
              "    </tr>\n",
              "    <tr>\n",
              "      <th>81988</th>\n",
              "      <td>Michigan Ave &amp; Oak St-Michigan Ave &amp; Oak St</td>\n",
              "      <td>Yes</td>\n",
              "      <td>4852</td>\n",
              "    </tr>\n",
              "    <tr>\n",
              "      <th>83856</th>\n",
              "      <td>Millennium Park-Millennium Park</td>\n",
              "      <td>Yes</td>\n",
              "      <td>4423</td>\n",
              "    </tr>\n",
              "  </tbody>\n",
              "</table>\n",
              "</div>"
            ],
            "text/plain": [
              "                                                  station  \\\n",
              "117642    Streeter Dr & Grand Ave-Streeter Dr & Grand Ave   \n",
              "44074   Dusable Lake Shore Dr & Monroe St-Dusable Lake...   \n",
              "44301   Dusable Lake Shore Dr & Monroe St-Streeter Dr ...   \n",
              "81988         Michigan Ave & Oak St-Michigan Ave & Oak St   \n",
              "83856                     Millennium Park-Millennium Park   \n",
              "\n",
              "       same_start_and_end_station  counts  \n",
              "117642                        Yes   10895  \n",
              "44074                         Yes    6610  \n",
              "44301                          No    5356  \n",
              "81988                         Yes    4852  \n",
              "83856                         Yes    4423  "
            ]
          },
          "execution_count": 7,
          "metadata": {},
          "output_type": "execute_result"
        }
      ],
      "source": [
        "# Filtering DataFrame for member type = Casual and creating new DataFrame\n",
        "casual = clean_df.loc[clean_df.member_casual == 'casual']\n",
        "\n",
        "# Creating a new column with the start station name and end station name joined together\n",
        "casual['station'] = casual.start_station_name+\"-\"+casual.end_station_name \n",
        "\n",
        "# Creating a new column to store if the start and end station names are the same\n",
        "casual['same_start_and_end_station'] = ['Yes' if casual.start_station_name[x] == casual.end_station_name[x] else 'No' for x in casual.index]\n",
        "\n",
        "# Group by station and same_start_and_end_station\n",
        "group_casual = casual.groupby(['station','same_start_and_end_station'])\\\n",
        "    .size().reset_index(name = 'counts')\\\n",
        "    .sort_values(by = 'counts',ascending = False)[:30] # Here we sort the values in descending order and filter only the top 30.\n",
        "\n",
        "# Printing first 5 observations\n",
        "group_casual.head(5)"
      ]
    },
    {
      "cell_type": "markdown",
      "metadata": {},
      "source": [
        "**Number of trips by category:**"
      ]
    },
    {
      "cell_type": "markdown",
      "metadata": {},
      "source": [
        "**Yes** = the trip started and ended at the same station\n",
        "\n",
        "**No** =  the trip started and ended at different stations"
      ]
    },
    {
      "cell_type": "code",
      "execution_count": 38,
      "metadata": {},
      "outputs": [
        {
          "name": "stdout",
          "output_type": "stream",
          "text": [
            "  index    count\n",
            "0    No  1690741\n",
            "1   Yes   187165\n"
          ]
        }
      ],
      "source": [
        "print(casual.same_start_and_end_station.value_counts().reset_index(name= 'count'))"
      ]
    },
    {
      "cell_type": "markdown",
      "metadata": {},
      "source": [
        "### General proportion of round trips:"
      ]
    },
    {
      "cell_type": "code",
      "execution_count": 34,
      "metadata": {},
      "outputs": [
        {
          "name": "stdout",
          "output_type": "stream",
          "text": [
            "9.97%\n"
          ]
        }
      ],
      "source": [
        "# Percentage of round trips overall for casual users\n",
        "print(f'{round((casual.same_start_and_end_station.value_counts()[1]/(casual.same_start_and_end_station.value_counts().sum()))*100,2)}%')"
      ]
    },
    {
      "cell_type": "markdown",
      "metadata": {},
      "source": [
        "### Proportion of round trips for the top 30 most common departure and arrival stations:"
      ]
    },
    {
      "cell_type": "code",
      "execution_count": 30,
      "metadata": {},
      "outputs": [
        {
          "name": "stdout",
          "output_type": "stream",
          "text": [
            "46.67%\n"
          ]
        }
      ],
      "source": [
        "# Percentage of round trip for casual members\n",
        "\n",
        "print(f'{round((group_casual.same_start_and_end_station.value_counts()[1]/(group_casual.same_start_and_end_station.value_counts().sum()))*100,2)}%')"
      ]
    },
    {
      "cell_type": "markdown",
      "metadata": {},
      "source": [
        "The 46.67% of trips across the 30 most common stations start and end at the same station. Therefore, 53.33% start and end at different stations."
      ]
    },
    {
      "cell_type": "markdown",
      "metadata": {},
      "source": [
        "**Visualizing our findings:**"
      ]
    },
    {
      "cell_type": "code",
      "execution_count": 35,
      "metadata": {
        "id": "vfqErLyYniNA",
        "outputId": "b074bbf9-e5cb-47e0-f083-aecb3eedac75"
      },
      "outputs": [
        {
          "data": {
            "image/png": "[encoded data removed]",
            "text/plain": [
              "<Figure size 1080x720 with 1 Axes>"
            ]
          },
          "metadata": {
            "needs_background": "light"
          },
          "output_type": "display_data"
        }
      ],
      "source": [
        "# Creating Bar Chart\n",
        "fig, ax = plt.subplots(figsize=(15,10))\n",
        "sns.barplot(x= 'counts',\n",
        "            y = 'station',\n",
        "            data = group_casual,\n",
        "            hue = 'same_start_and_end_station',\n",
        "            palette='mako',\n",
        "            ax = ax)\n",
        "# Setting the tittle          \n",
        "ax.set_title('Top 30 Stations for Casual Users',fontdict = {'fontweight':'bold','fontsize':20})\n",
        "\n",
        "# Setting the Xlabel\n",
        "ax.set_xlabel('Total Trips', fontsize = 18)\n",
        "\n",
        "# Setting the Ylabel\n",
        "ax.set_ylabel('Start Station - End Station',fontsize = 18)\n",
        "\n",
        "# Adjusting legend\n",
        "plt.legend(loc = 'center right',title='Same start and end station')\n",
        "\n",
        "# Display plot\n",
        "plt.show()"
      ]
    },
    {
      "cell_type": "markdown",
      "metadata": {
        "id": "kI7uDBRpniNA"
      },
      "source": [
        "Here we can see clearly that approximately 47% of the time Casual users start and end their trips at the same station. This might be an explanation for why their ride lengths are more extended than Member users."
      ]
    },
    {
      "cell_type": "markdown",
      "metadata": {
        "id": "eAKvzNftniNA"
      },
      "source": [
        "## Top 30 Departure and Arrival Stations For Member Riders"
      ]
    },
    {
      "cell_type": "markdown",
      "metadata": {},
      "source": [
        "Let's find out which are the most common start and end stationshow and how many are round trips for **member users**:"
      ]
    },
    {
      "cell_type": "code",
      "execution_count": 22,
      "metadata": {
        "id": "U5qjWa-fniNA",
        "outputId": "0e99d364-0262-48fd-e491-d1592fc1d602"
      },
      "outputs": [
        {
          "data": {
            "text/html": [
              "<div>\n",
              "<style scoped>\n",
              "    .dataframe tbody tr th:only-of-type {\n",
              "        vertical-align: middle;\n",
              "    }\n",
              "\n",
              "    .dataframe tbody tr th {\n",
              "        vertical-align: top;\n",
              "    }\n",
              "\n",
              "    .dataframe thead th {\n",
              "        text-align: right;\n",
              "    }\n",
              "</style>\n",
              "<table border=\"1\" class=\"dataframe\">\n",
              "  <thead>\n",
              "    <tr style=\"text-align: right;\">\n",
              "      <th></th>\n",
              "      <th>station</th>\n",
              "      <th>same_start_and_end_station</th>\n",
              "      <th>counts</th>\n",
              "    </tr>\n",
              "  </thead>\n",
              "  <tbody>\n",
              "    <tr>\n",
              "      <th>47872</th>\n",
              "      <td>Ellis Ave &amp; 60Th St-University Ave &amp; 57Th St</td>\n",
              "      <td>No</td>\n",
              "      <td>5681</td>\n",
              "    </tr>\n",
              "    <tr>\n",
              "      <th>121808</th>\n",
              "      <td>University Ave &amp; 57Th St-Ellis Ave &amp; 60Th St</td>\n",
              "      <td>No</td>\n",
              "      <td>5515</td>\n",
              "    </tr>\n",
              "    <tr>\n",
              "      <th>47811</th>\n",
              "      <td>Ellis Ave &amp; 60Th St-Ellis Ave &amp; 55Th St</td>\n",
              "      <td>No</td>\n",
              "      <td>5352</td>\n",
              "    </tr>\n",
              "    <tr>\n",
              "      <th>47608</th>\n",
              "      <td>Ellis Ave &amp; 55Th St-Ellis Ave &amp; 60Th St</td>\n",
              "      <td>No</td>\n",
              "      <td>4710</td>\n",
              "    </tr>\n",
              "    <tr>\n",
              "      <th>16469</th>\n",
              "      <td>Calumet Ave &amp; 33Rd St-State St &amp; 33Rd St</td>\n",
              "      <td>No</td>\n",
              "      <td>2642</td>\n",
              "    </tr>\n",
              "  </tbody>\n",
              "</table>\n",
              "</div>"
            ],
            "text/plain": [
              "                                             station  \\\n",
              "47872   Ellis Ave & 60Th St-University Ave & 57Th St   \n",
              "121808  University Ave & 57Th St-Ellis Ave & 60Th St   \n",
              "47811        Ellis Ave & 60Th St-Ellis Ave & 55Th St   \n",
              "47608        Ellis Ave & 55Th St-Ellis Ave & 60Th St   \n",
              "16469       Calumet Ave & 33Rd St-State St & 33Rd St   \n",
              "\n",
              "       same_start_and_end_station  counts  \n",
              "47872                          No    5681  \n",
              "121808                         No    5515  \n",
              "47811                          No    5352  \n",
              "47608                          No    4710  \n",
              "16469                          No    2642  "
            ]
          },
          "execution_count": 22,
          "metadata": {},
          "output_type": "execute_result"
        }
      ],
      "source": [
        "# Filtering DataFrame for member type = Member and creating new DataFrame\n",
        "member = clean_df.loc[clean_df.member_casual == 'member']\n",
        "\n",
        "# Creating a new column with the start station name and end station name joined together\n",
        "member['station'] = member.start_station_name+\"-\"+member.end_station_name \n",
        "\n",
        "# Creating a new column to store if the start and end station names are the same\n",
        "member['same_start_and_end_station'] = ['Yes' if member.start_station_name[x] == member.end_station_name[x] else 'No' for x in member.index]\n",
        "\n",
        "# Group by station and same_start_and_end_station\n",
        "group_member = member.groupby(['station','same_start_and_end_station'])\\\n",
        "    .size().reset_index(name = 'counts')\\\n",
        "    .sort_values(by = 'counts',ascending = False)[:30] # Here we sort the values in descending order and filter only the top 30.\n",
        "\n",
        "# Printing first 5 observations\n",
        "group_member.head(5)"
      ]
    },
    {
      "cell_type": "markdown",
      "metadata": {},
      "source": [
        "**Number of trips by category:**"
      ]
    },
    {
      "cell_type": "markdown",
      "metadata": {},
      "source": [
        "**Yes** = the trip started and ended at the same station\n",
        "\n",
        "**No** =  the trip started and ended at different stations"
      ]
    },
    {
      "cell_type": "code",
      "execution_count": 39,
      "metadata": {},
      "outputs": [
        {
          "name": "stdout",
          "output_type": "stream",
          "text": [
            "  index    count\n",
            "0    No  2564971\n",
            "1   Yes   117077\n"
          ]
        }
      ],
      "source": [
        "print(member.same_start_and_end_station.value_counts().reset_index(name= 'count'))"
      ]
    },
    {
      "cell_type": "markdown",
      "metadata": {},
      "source": [
        "### General proportion of round trips:"
      ]
    },
    {
      "cell_type": "code",
      "execution_count": 43,
      "metadata": {},
      "outputs": [
        {
          "name": "stdout",
          "output_type": "stream",
          "text": [
            "4.37%\n"
          ]
        }
      ],
      "source": [
        "# Percentage of round trips overall for member users\n",
        "print(f'{round((member.same_start_and_end_station.value_counts()[1]/(member.same_start_and_end_station.value_counts().sum()))*100,2)}%')"
      ]
    },
    {
      "cell_type": "markdown",
      "metadata": {},
      "source": [
        "The 4.67% of trips across the 30 most common stations start and end at the same station. Therefore, 95.63% start and end at different stations."
      ]
    },
    {
      "cell_type": "markdown",
      "metadata": {},
      "source": [
        "### Proportion of round trips for the top 30 most common departure and arrival stations:"
      ]
    },
    {
      "cell_type": "code",
      "execution_count": 42,
      "metadata": {},
      "outputs": [
        {
          "name": "stdout",
          "output_type": "stream",
          "text": [
            "6.67%\n"
          ]
        }
      ],
      "source": [
        "# Percentage of round trip for casual members\n",
        "print(f'{round((group_member.same_start_and_end_station.value_counts()[1]/(group_member.same_start_and_end_station.value_counts().sum()))*100,2)}%')"
      ]
    },
    {
      "cell_type": "markdown",
      "metadata": {},
      "source": [
        "The 6.67% of trips across the 30 most common stations start and end at the same station. Therefore, 93.33% start and end at different stations."
      ]
    },
    {
      "cell_type": "markdown",
      "metadata": {},
      "source": [
        "**Visualizing our findings:**"
      ]
    },
    {
      "cell_type": "code",
      "execution_count": 36,
      "metadata": {
        "id": "_PTg54_wBf_B",
        "outputId": "613812ff-67ab-4775-b51b-40b1d251b2f1"
      },
      "outputs": [
        {
          "data": {
            "image/png": "[encoded data removed]",
            "text/plain": [
              "<Figure size 1080x720 with 1 Axes>"
            ]
          },
          "metadata": {
            "needs_background": "light"
          },
          "output_type": "display_data"
        }
      ],
      "source": [
        "# Creating Bar Chart\n",
        "fig, ax = plt.subplots(figsize=(15,10))\n",
        "sns.barplot(x= 'counts',\n",
        "            y = 'station',\n",
        "            data = group_member,\n",
        "            hue = 'same_start_and_end_station',\n",
        "            palette='mako',\n",
        "            ax = ax)\n",
        "\n",
        "# Setting the title\n",
        "ax.set_title('Top 30 Stations for Member Users',fontdict = {'fontweight':'bold','fontsize':20})\n",
        "\n",
        "# Setting Xlabel\n",
        "ax.set_xlabel('Total Trips', fontsize = 18)\n",
        "\n",
        "# Setting Ylabel\n",
        "ax.set_ylabel('Start Station - End Station',fontsize = 18)\n",
        "\n",
        "# Adjusting legend\n",
        "plt.legend(loc = 'center right',title='Same start and end station')\n",
        "\n",
        "# Display plot\n",
        "plt.show()"
      ]
    },
    {
      "cell_type": "markdown",
      "metadata": {},
      "source": [
        "Here we can see clearly that approximately 93% of the time Casual users start and end their trips at different stations. We can conclude from this that Member users mainly use our bikes to commute to work, this assumption can be explained because we know that the most common days for member users are on weekdays."
      ]
    },
    {
      "cell_type": "markdown",
      "metadata": {
        "id": "HCLuI03VniNA"
      },
      "source": [
        "Approximately 93% of member users' trips start and end at different stations. This probably is because Member users mainly use the bikes on weekdays, posibily to commute to work."
      ]
    },
    {
      "cell_type": "markdown",
      "metadata": {
        "id": "wcIrfAozniNA"
      },
      "source": [
        "# Conclusions"
      ]
    },
    {
      "cell_type": "markdown",
      "metadata": {
        "id": "r8VAezX-niNA"
      },
      "source": [
        "### Insights"
      ]
    },
    {
      "cell_type": "markdown",
      "metadata": {
        "id": "qDn7QW8lniNA"
      },
      "source": [
        "* 58.82% of users are Member users\n",
        "* Casual users use the services mainly on weekends.\n",
        "* Member users use the services mainly on weekdays. \n",
        "* Casual users' ride length is longer than Member users' type. This is probably because casual users start and end their trips at the same station.\n",
        "* On average both user types have longer trips on weekends.\n",
        "* The most common bike among both user types is the Classic bike, followed by the Electric bike.\n",
        "* The preferred time for a ride is between May and September."
      ]
    },
    {
      "cell_type": "markdown",
      "metadata": {
        "id": "PrxB9bcwniNA"
      },
      "source": [
        "# Recommendations"
      ]
    },
    {
      "cell_type": "markdown",
      "metadata": {
        "id": "S9aB_0sLniNB"
      },
      "source": [
        "Since Casual users are a substantial proportion of users that uses our services,41.18%, we should consider the following recommendations:\n",
        "\n",
        "- Create a promotion where casual rides can subscribe for unlimited rides on weekends.\n",
        "- Create a promotional strategy to target Casual users that use our bikes to commute to work\n",
        "- As Casual users tend to have longer ride lengths, we should aim to show Casual users the benefits of annual memberships."
      ]
    },
    {
      "cell_type": "code",
      "execution_count": null,
      "metadata": {},
      "outputs": [],
      "source": [
        "def solution(src, dest):\n",
        "    #Your code here\n",
        "    if src == dest:\n",
        "        return 0\n",
        "\n",
        "    def coordinate(src):\n",
        "        return src /8 , src %8\n",
        "        \n",
        "    def board(sx, sy, b):\n",
        "        arr = [(sx, sy)]\n",
        "        while arr:\n",
        "            x, y = arr.pop()\n",
        "            for i in [[1,2],[-1,2],[1,-2],[-1,-2],[2,1],[-2,1],[2,-1],[-2,-1]]:\n",
        "             nx, ny = x + i[0], y + i[1]\n",
        "            if 0 <= nx <= 7 and 0 <= ny <= 7:\n",
        "                if b[nx][ny] is None:\n",
        "                    b[nx][ny] = b[x][y] + 1\n",
        "                    arr.append((nx, ny)) \n",
        "\n",
        "    def sol(src, dest):\n",
        "        b = [[None for i in range(8)] for i in range(8)]\n",
        "        sx, sy =  coordinate(src)\n",
        "        dx, dy =  coordinate(dest)\n",
        "        b[sx][sy] = 0\n",
        "        board(sx, sy, b)\n",
        "        return b[dx][dy]\n",
        "\n",
        "    return sol(src,dest)\n",
        "\n",
        "solution(3,5)\n"
      ]
    },
    {
      "cell_type": "code",
      "execution_count": 17,
      "metadata": {},
      "outputs": [
        {
          "ename": "TypeError",
          "evalue": "list indices must be integers or slices, not float",
          "output_type": "error",
          "traceback": [
            "\u001b[1;31m---------------------------------------------------------------------------\u001b[0m",
            "\u001b[1;31mTypeError\u001b[0m                                 Traceback (most recent call last)",
            "\u001b[1;32m~\\AppData\\Local\\Temp/ipykernel_37552/3767247679.py\u001b[0m in \u001b[0;36m<module>\u001b[1;34m\u001b[0m\n\u001b[0;32m     24\u001b[0m \u001b[1;31m# Answer 1\u001b[0m\u001b[1;33m\u001b[0m\u001b[1;33m\u001b[0m\u001b[1;33m\u001b[0m\u001b[0m\n\u001b[0;32m     25\u001b[0m \u001b[1;33m\u001b[0m\u001b[0m\n\u001b[1;32m---> 26\u001b[1;33m \u001b[0mprint\u001b[0m\u001b[1;33m(\u001b[0m\u001b[0manswer\u001b[0m\u001b[1;33m(\u001b[0m\u001b[1;36m0\u001b[0m\u001b[1;33m,\u001b[0m \u001b[1;36m1\u001b[0m\u001b[1;33m)\u001b[0m\u001b[1;33m)\u001b[0m\u001b[1;33m\u001b[0m\u001b[1;33m\u001b[0m\u001b[0m\n\u001b[0m\u001b[0;32m     27\u001b[0m \u001b[1;31m# Answer 3\u001b[0m\u001b[1;33m\u001b[0m\u001b[1;33m\u001b[0m\u001b[1;33m\u001b[0m\u001b[0m\n",
            "\u001b[1;32m~\\AppData\\Local\\Temp/ipykernel_37552/3767247679.py\u001b[0m in \u001b[0;36manswer\u001b[1;34m(src, dest)\u001b[0m\n\u001b[0;32m     17\u001b[0m     \u001b[0msx\u001b[0m\u001b[1;33m,\u001b[0m \u001b[0msy\u001b[0m \u001b[1;33m=\u001b[0m \u001b[0mcord\u001b[0m\u001b[1;33m(\u001b[0m\u001b[0msrc\u001b[0m\u001b[1;33m)\u001b[0m\u001b[1;33m\u001b[0m\u001b[1;33m\u001b[0m\u001b[0m\n\u001b[0;32m     18\u001b[0m     \u001b[0mdx\u001b[0m\u001b[1;33m,\u001b[0m \u001b[0mdy\u001b[0m \u001b[1;33m=\u001b[0m \u001b[0mcord\u001b[0m\u001b[1;33m(\u001b[0m\u001b[0mdest\u001b[0m\u001b[1;33m)\u001b[0m\u001b[1;33m\u001b[0m\u001b[1;33m\u001b[0m\u001b[0m\n\u001b[1;32m---> 19\u001b[1;33m     \u001b[0mboard\u001b[0m\u001b[1;33m[\u001b[0m\u001b[0msx\u001b[0m\u001b[1;33m]\u001b[0m\u001b[1;33m[\u001b[0m\u001b[0msy\u001b[0m\u001b[1;33m]\u001b[0m \u001b[1;33m=\u001b[0m \u001b[1;36m0\u001b[0m\u001b[1;33m\u001b[0m\u001b[1;33m\u001b[0m\u001b[0m\n\u001b[0m\u001b[0;32m     20\u001b[0m     \u001b[0msht_pth\u001b[0m\u001b[1;33m(\u001b[0m\u001b[0msx\u001b[0m\u001b[1;33m,\u001b[0m \u001b[0msy\u001b[0m\u001b[1;33m,\u001b[0m \u001b[0mboard\u001b[0m\u001b[1;33m)\u001b[0m\u001b[1;33m\u001b[0m\u001b[1;33m\u001b[0m\u001b[0m\n\u001b[0;32m     21\u001b[0m     \u001b[1;32mreturn\u001b[0m \u001b[0mboard\u001b[0m\u001b[1;33m[\u001b[0m\u001b[0mdx\u001b[0m\u001b[1;33m]\u001b[0m\u001b[1;33m[\u001b[0m\u001b[0mdy\u001b[0m\u001b[1;33m]\u001b[0m\u001b[1;33m\u001b[0m\u001b[1;33m\u001b[0m\u001b[0m\n",
            "\u001b[1;31mTypeError\u001b[0m: list indices must be integers or slices, not float"
          ]
        }
      ],
      "source": [
        "def cord(src):\n",
        "    return src / 8, src % 8\n",
        "\n",
        "def sht_pth(sx, sy, board):\n",
        "    arr = [(sx, sy)]\n",
        "    while arr:\n",
        "        x, y = arr.pop(0)\n",
        "        for i in [[1,2],[-1,2],[1,-2],[-1,-2],[2,1],[-2,1],[2,-1],[-2,-1]]:\n",
        "          nx, ny = x + i[0], y + i[1]\n",
        "          if 0 <= nx <= 7 and 0 <= ny <= 7:\n",
        "              if board[nx][ny] is None:\n",
        "                  board[nx][ny] = board[x][y] + 1\n",
        "                  arr.append((nx, ny)) \n",
        "\n",
        "def answer(src, dest):\n",
        "    board = [[None for i in range(8)] for i in range(8)]\n",
        "    sx, sy = cord(src)\n",
        "    dx, dy = cord(dest)\n",
        "    board[sx][sy] = 0\n",
        "    sht_pth(sx, sy, board)\n",
        "    return board[dx][dy]\n",
        "\n",
        "#print answer(19, 36)\n",
        "# Answer 1\n",
        "\n",
        "print(answer(0, 1))\n",
        "# Answer 3"
      ]
    }
  ],
  "metadata": {
    "colab": {
      "provenance": [],
      "toc_visible": true
    },
    "kernelspec": {
      "display_name": "Python 3.8.12 ('base')",
      "language": "python",
      "name": "python3"
    },
    "language_info": {
      "codemirror_mode": {
        "name": "ipython",
        "version": 3
      },
      "file_extension": ".py",
      "mimetype": "text/x-python",
      "name": "python",
      "nbconvert_exporter": "python",
      "pygments_lexer": "ipython3",
      "version": "3.8.12"
    },
    "vscode": {
      "interpreter": {
        "hash": "62d813e913d91536dee5bef58646e2b141329ae02fde22aa3d04df1a18e619c2"
      }
    }
  },
  "nbformat": 4,
  "nbformat_minor": 0
}
